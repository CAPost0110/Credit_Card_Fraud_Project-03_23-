{
  "nbformat": 4,
  "nbformat_minor": 0,
  "metadata": {
    "colab": {
      "provenance": [],
      "mount_file_id": "1w1xNG7qfHqNhNMv4AX4qYbaNwhjSOFOa",
      "authorship_tag": "ABX9TyNDpjJV1rEfMjhJAqWNouMq",
      "include_colab_link": true
    },
    "kernelspec": {
      "name": "python3",
      "display_name": "Python 3"
    },
    "language_info": {
      "name": "python"
    },
    "widgets": {
      "application/vnd.jupyter.widget-state+json": {
        "0065b63841494262979d8b112818b011": {
          "model_module": "@jupyter-widgets/controls",
          "model_name": "HBoxModel",
          "model_module_version": "1.5.0",
          "state": {
            "_dom_classes": [],
            "_model_module": "@jupyter-widgets/controls",
            "_model_module_version": "1.5.0",
            "_model_name": "HBoxModel",
            "_view_count": null,
            "_view_module": "@jupyter-widgets/controls",
            "_view_module_version": "1.5.0",
            "_view_name": "HBoxView",
            "box_style": "",
            "children": [
              "IPY_MODEL_9608e6bcc34e4aeea56384c51ed7af03",
              "IPY_MODEL_876dcc0c7ced4d8cbec8b64e7f69c169",
              "IPY_MODEL_437966d8c8e34f6b9b9c27bc463ddbcb"
            ],
            "layout": "IPY_MODEL_e4362d107dc74355a1250319e48b705b"
          }
        },
        "9608e6bcc34e4aeea56384c51ed7af03": {
          "model_module": "@jupyter-widgets/controls",
          "model_name": "HTMLModel",
          "model_module_version": "1.5.0",
          "state": {
            "_dom_classes": [],
            "_model_module": "@jupyter-widgets/controls",
            "_model_module_version": "1.5.0",
            "_model_name": "HTMLModel",
            "_view_count": null,
            "_view_module": "@jupyter-widgets/controls",
            "_view_module_version": "1.5.0",
            "_view_name": "HTMLView",
            "description": "",
            "description_tooltip": null,
            "layout": "IPY_MODEL_51bb5ff0e034442b80b2022a6551be7a",
            "placeholder": "​",
            "style": "IPY_MODEL_b9dc68e65a3a4636b8fd860f85fb2209",
            "value": "Done! Use &#x27;show&#x27; commands to display/save.   "
          }
        },
        "876dcc0c7ced4d8cbec8b64e7f69c169": {
          "model_module": "@jupyter-widgets/controls",
          "model_name": "FloatProgressModel",
          "model_module_version": "1.5.0",
          "state": {
            "_dom_classes": [],
            "_model_module": "@jupyter-widgets/controls",
            "_model_module_version": "1.5.0",
            "_model_name": "FloatProgressModel",
            "_view_count": null,
            "_view_module": "@jupyter-widgets/controls",
            "_view_module_version": "1.5.0",
            "_view_name": "ProgressView",
            "bar_style": "success",
            "description": "",
            "description_tooltip": null,
            "layout": "IPY_MODEL_20e29035d4f14df8b8ae0a0d4bceef82",
            "max": 1,
            "min": 0,
            "orientation": "horizontal",
            "style": "IPY_MODEL_8eb1123955d0479f99f06013a1f3f1ad",
            "value": 1
          }
        },
        "437966d8c8e34f6b9b9c27bc463ddbcb": {
          "model_module": "@jupyter-widgets/controls",
          "model_name": "HTMLModel",
          "model_module_version": "1.5.0",
          "state": {
            "_dom_classes": [],
            "_model_module": "@jupyter-widgets/controls",
            "_model_module_version": "1.5.0",
            "_model_name": "HTMLModel",
            "_view_count": null,
            "_view_module": "@jupyter-widgets/controls",
            "_view_module_version": "1.5.0",
            "_view_name": "HTMLView",
            "description": "",
            "description_tooltip": null,
            "layout": "IPY_MODEL_f2c8b0ee40dc442fb717e24cbf0cfad6",
            "placeholder": "​",
            "style": "IPY_MODEL_9fdd4e12b5934ad0be3b6a7700f66f37",
            "value": " [100%]   00:02 -&gt; (00:00 left)"
          }
        },
        "e4362d107dc74355a1250319e48b705b": {
          "model_module": "@jupyter-widgets/base",
          "model_name": "LayoutModel",
          "model_module_version": "1.2.0",
          "state": {
            "_model_module": "@jupyter-widgets/base",
            "_model_module_version": "1.2.0",
            "_model_name": "LayoutModel",
            "_view_count": null,
            "_view_module": "@jupyter-widgets/base",
            "_view_module_version": "1.2.0",
            "_view_name": "LayoutView",
            "align_content": null,
            "align_items": null,
            "align_self": null,
            "border": null,
            "bottom": null,
            "display": "inline-flex",
            "flex": null,
            "flex_flow": "row wrap",
            "grid_area": null,
            "grid_auto_columns": null,
            "grid_auto_flow": null,
            "grid_auto_rows": null,
            "grid_column": null,
            "grid_gap": null,
            "grid_row": null,
            "grid_template_areas": null,
            "grid_template_columns": null,
            "grid_template_rows": null,
            "height": null,
            "justify_content": null,
            "justify_items": null,
            "left": null,
            "margin": null,
            "max_height": null,
            "max_width": null,
            "min_height": null,
            "min_width": null,
            "object_fit": null,
            "object_position": null,
            "order": null,
            "overflow": null,
            "overflow_x": null,
            "overflow_y": null,
            "padding": null,
            "right": null,
            "top": null,
            "visibility": null,
            "width": "100%"
          }
        },
        "51bb5ff0e034442b80b2022a6551be7a": {
          "model_module": "@jupyter-widgets/base",
          "model_name": "LayoutModel",
          "model_module_version": "1.2.0",
          "state": {
            "_model_module": "@jupyter-widgets/base",
            "_model_module_version": "1.2.0",
            "_model_name": "LayoutModel",
            "_view_count": null,
            "_view_module": "@jupyter-widgets/base",
            "_view_module_version": "1.2.0",
            "_view_name": "LayoutView",
            "align_content": null,
            "align_items": null,
            "align_self": null,
            "border": null,
            "bottom": null,
            "display": null,
            "flex": null,
            "flex_flow": null,
            "grid_area": null,
            "grid_auto_columns": null,
            "grid_auto_flow": null,
            "grid_auto_rows": null,
            "grid_column": null,
            "grid_gap": null,
            "grid_row": null,
            "grid_template_areas": null,
            "grid_template_columns": null,
            "grid_template_rows": null,
            "height": null,
            "justify_content": null,
            "justify_items": null,
            "left": null,
            "margin": null,
            "max_height": null,
            "max_width": null,
            "min_height": null,
            "min_width": null,
            "object_fit": null,
            "object_position": null,
            "order": null,
            "overflow": null,
            "overflow_x": null,
            "overflow_y": null,
            "padding": null,
            "right": null,
            "top": null,
            "visibility": null,
            "width": null
          }
        },
        "b9dc68e65a3a4636b8fd860f85fb2209": {
          "model_module": "@jupyter-widgets/controls",
          "model_name": "DescriptionStyleModel",
          "model_module_version": "1.5.0",
          "state": {
            "_model_module": "@jupyter-widgets/controls",
            "_model_module_version": "1.5.0",
            "_model_name": "DescriptionStyleModel",
            "_view_count": null,
            "_view_module": "@jupyter-widgets/base",
            "_view_module_version": "1.2.0",
            "_view_name": "StyleView",
            "description_width": ""
          }
        },
        "20e29035d4f14df8b8ae0a0d4bceef82": {
          "model_module": "@jupyter-widgets/base",
          "model_name": "LayoutModel",
          "model_module_version": "1.2.0",
          "state": {
            "_model_module": "@jupyter-widgets/base",
            "_model_module_version": "1.2.0",
            "_model_name": "LayoutModel",
            "_view_count": null,
            "_view_module": "@jupyter-widgets/base",
            "_view_module_version": "1.2.0",
            "_view_name": "LayoutView",
            "align_content": null,
            "align_items": null,
            "align_self": null,
            "border": null,
            "bottom": null,
            "display": null,
            "flex": "2",
            "flex_flow": null,
            "grid_area": null,
            "grid_auto_columns": null,
            "grid_auto_flow": null,
            "grid_auto_rows": null,
            "grid_column": null,
            "grid_gap": null,
            "grid_row": null,
            "grid_template_areas": null,
            "grid_template_columns": null,
            "grid_template_rows": null,
            "height": null,
            "justify_content": null,
            "justify_items": null,
            "left": null,
            "margin": null,
            "max_height": null,
            "max_width": null,
            "min_height": null,
            "min_width": null,
            "object_fit": null,
            "object_position": null,
            "order": null,
            "overflow": null,
            "overflow_x": null,
            "overflow_y": null,
            "padding": null,
            "right": null,
            "top": null,
            "visibility": null,
            "width": null
          }
        },
        "8eb1123955d0479f99f06013a1f3f1ad": {
          "model_module": "@jupyter-widgets/controls",
          "model_name": "ProgressStyleModel",
          "model_module_version": "1.5.0",
          "state": {
            "_model_module": "@jupyter-widgets/controls",
            "_model_module_version": "1.5.0",
            "_model_name": "ProgressStyleModel",
            "_view_count": null,
            "_view_module": "@jupyter-widgets/base",
            "_view_module_version": "1.2.0",
            "_view_name": "StyleView",
            "bar_color": null,
            "description_width": ""
          }
        },
        "f2c8b0ee40dc442fb717e24cbf0cfad6": {
          "model_module": "@jupyter-widgets/base",
          "model_name": "LayoutModel",
          "model_module_version": "1.2.0",
          "state": {
            "_model_module": "@jupyter-widgets/base",
            "_model_module_version": "1.2.0",
            "_model_name": "LayoutModel",
            "_view_count": null,
            "_view_module": "@jupyter-widgets/base",
            "_view_module_version": "1.2.0",
            "_view_name": "LayoutView",
            "align_content": null,
            "align_items": null,
            "align_self": null,
            "border": null,
            "bottom": null,
            "display": null,
            "flex": null,
            "flex_flow": null,
            "grid_area": null,
            "grid_auto_columns": null,
            "grid_auto_flow": null,
            "grid_auto_rows": null,
            "grid_column": null,
            "grid_gap": null,
            "grid_row": null,
            "grid_template_areas": null,
            "grid_template_columns": null,
            "grid_template_rows": null,
            "height": null,
            "justify_content": null,
            "justify_items": null,
            "left": null,
            "margin": null,
            "max_height": null,
            "max_width": null,
            "min_height": null,
            "min_width": null,
            "object_fit": null,
            "object_position": null,
            "order": null,
            "overflow": null,
            "overflow_x": null,
            "overflow_y": null,
            "padding": null,
            "right": null,
            "top": null,
            "visibility": null,
            "width": null
          }
        },
        "9fdd4e12b5934ad0be3b6a7700f66f37": {
          "model_module": "@jupyter-widgets/controls",
          "model_name": "DescriptionStyleModel",
          "model_module_version": "1.5.0",
          "state": {
            "_model_module": "@jupyter-widgets/controls",
            "_model_module_version": "1.5.0",
            "_model_name": "DescriptionStyleModel",
            "_view_count": null,
            "_view_module": "@jupyter-widgets/base",
            "_view_module_version": "1.2.0",
            "_view_name": "StyleView",
            "description_width": ""
          }
        }
      }
    }
  },
  "cells": [
    {
      "cell_type": "markdown",
      "metadata": {
        "id": "view-in-github",
        "colab_type": "text"
      },
      "source": [
        "<a href=\"https://colab.research.google.com/github/CAPost0110/Credit_Card_Fraud_Project-03_23-/blob/main/Portfolio_Project_Credit_Card_Fraud_bk2.ipynb\" target=\"_parent\"><img src=\"https://colab.research.google.com/assets/colab-badge.svg\" alt=\"Open In Colab\"/></a>"
      ]
    },
    {
      "cell_type": "markdown",
      "source": [
        "# Notebook number 2 for the project (3.14.23)\n",
        "\n",
        "### Notebook one was highly experimental and...broad.  This notebook will build off of the findings from the previous and probably lead to a 3rd notebook to be honest 😆 but it will be more focused than the previous!\n",
        "\n",
        "Some of the things focused on in this notebook:\n",
        "- SweetViz \n",
        "  - A new/different way to do EDA\n",
        "- AutoClean\n",
        "  - I found and experimented with this module and though it takes 30mins to run, I think it is clea...better than winsorizing each column separately\n",
        "- LazyClassifier\n",
        "  - I was asked to run LazyClassifier yesterday but didn't have the time it took to run it (randomforest takes forever!!)\n",
        "  - I'll start it again here and check to see if there are ways to remove some of the algos, as well as turn on verbose so that I can better see what is taking so long\n",
        "- Comparison\n",
        "  - The end goal is a comparison visual of all the models. A simple DataFrame would suffice, but I'm sure there's something even better 😏"
      ],
      "metadata": {
        "id": "7Qfhc-gimInt"
      }
    },
    {
      "cell_type": "code",
      "execution_count": null,
      "metadata": {
        "id": "Yz4j7lHhmBAI"
      },
      "outputs": [],
      "source": [
        "# Some of our libraries need to be installed\n",
        "!pip install dabl\n",
        "!pip install -U imbalanced-learn\n",
        "!pip install py-AutoClean\n",
        "!pip install loguru\n",
        "!pip install lazypredict\n",
        "!pip install sweetviz"
      ]
    },
    {
      "cell_type": "code",
      "source": [
        "# Imports\n",
        "# basics\n",
        "import pandas as pd\n",
        "import numpy as np\n",
        "\n",
        "# prep\n",
        "from sklearn.model_selection import train_test_split\n",
        "from imblearn.over_sampling import SMOTE\n",
        "from sklearn.preprocessing import LabelEncoder # shouldn't need thanks to AutoClean\n",
        "from sklearn.decomposition import PCA\n",
        "from AutoClean import AutoClean\n",
        "\n",
        "# measure\n",
        "from sklearn.metrics import mean_squared_error\n",
        "from sklearn.metrics import log_loss\n",
        "from sklearn.metrics import confusion_matrix, classification_report\n",
        "\n",
        "# importing machine learning models for prediction\n",
        "from sklearn.ensemble import ExtraTreesClassifier, AdaBoostClassifier\n",
        "from xgboost import XGBClassifier, XGBRegressor\n",
        "from sklearn.linear_model import LinearRegression, LogisticRegression\n",
        "import tensorflow as tf\n",
        "from tensorflow.keras import layers\n",
        "from tensorflow.keras.models import Sequential\n",
        "from tensorflow.keras.layers import Dense\n",
        "from sklearn.neural_network import MLPRegressor\n",
        "\n",
        "from keras.utils import np_utils\n",
        "\n",
        "# importing voting classifier\n",
        "from sklearn.ensemble import VotingClassifier, VotingRegressor # Maybe not worth using this time\n",
        "from lazypredict.Supervised import LazyClassifier, LazyRegressor\n",
        "#from sklearn import datasets\n",
        "\n",
        "# visuals\n",
        "import seaborn as sns\n",
        "import matplotlib.pyplot as plt\n",
        "import dabl \n",
        "from mpl_toolkits.mplot3d import Axes3D\n",
        "import sweetviz as sw\n",
        "\n"
      ],
      "metadata": {
        "id": "Ex_ggnrfsf5X"
      },
      "execution_count": 2,
      "outputs": []
    },
    {
      "cell_type": "code",
      "source": [],
      "metadata": {
        "id": "DqlfWfFGu5i_"
      },
      "execution_count": null,
      "outputs": []
    },
    {
      "cell_type": "code",
      "source": [
        "# The data\n",
        "data = pd.read_csv('/content/drive/MyDrive/Data Science/Data Science Data/creditcard.csv')"
      ],
      "metadata": {
        "id": "klbOSGAhurRF"
      },
      "execution_count": 4,
      "outputs": []
    },
    {
      "cell_type": "markdown",
      "source": [
        "## Data Exploration\n",
        "\n",
        "This time I will utilize sweetviz for our data exploration"
      ],
      "metadata": {
        "id": "9y4B_-Seut1Z"
      }
    },
    {
      "cell_type": "code",
      "source": [
        "analyze_report = sw.analyze(data)\n",
        "analyze_report.show_html('output.html', open_browser=True)"
      ],
      "metadata": {
        "colab": {
          "base_uri": "https://localhost:8080/",
          "height": 86,
          "referenced_widgets": [
            "0065b63841494262979d8b112818b011",
            "9608e6bcc34e4aeea56384c51ed7af03",
            "876dcc0c7ced4d8cbec8b64e7f69c169",
            "437966d8c8e34f6b9b9c27bc463ddbcb",
            "e4362d107dc74355a1250319e48b705b",
            "51bb5ff0e034442b80b2022a6551be7a",
            "b9dc68e65a3a4636b8fd860f85fb2209",
            "20e29035d4f14df8b8ae0a0d4bceef82",
            "8eb1123955d0479f99f06013a1f3f1ad",
            "f2c8b0ee40dc442fb717e24cbf0cfad6",
            "9fdd4e12b5934ad0be3b6a7700f66f37"
          ]
        },
        "id": "GF6ckWd9vyJc",
        "outputId": "924f8bf9-95cd-4441-feed-360d1dd15e29"
      },
      "execution_count": 8,
      "outputs": [
        {
          "output_type": "display_data",
          "data": {
            "text/plain": [
              "                                             |          | [  0%]   00:00 -> (? left)"
            ],
            "application/vnd.jupyter.widget-view+json": {
              "version_major": 2,
              "version_minor": 0,
              "model_id": "0065b63841494262979d8b112818b011"
            }
          },
          "metadata": {}
        },
        {
          "output_type": "stream",
          "name": "stdout",
          "text": [
            "Report output.html was generated! NOTEBOOK/COLAB USERS: the web browser MAY not pop up, regardless, the report IS saved in your notebook/colab files.\n"
          ]
        }
      ]
    },
    {
      "cell_type": "markdown",
      "source": [
        "## This creates an html visual which is very informative! \n",
        "\n",
        "https://medium.com/@fareedkhandev/exploratory-data-analysis-eda-in-a-single-line-of-code-d3a2b202f3e4\n",
        "\n",
        "We can see:\n",
        "\n",
        "- feature importance\n",
        "  - based on the correlation matrix visual we can slim down the features from 30 to under 10. As such, this time we will not use PCA, but try dropping all but the top important features as identified by these visuals\n",
        "- all descriptive statistics per feature\n",
        "  - including kurtosis and skew!\n",
        "\n",
        "\n",
        "**** One thing to note is that neither sweetviz or AutoClean seem to catch the data imbalance we have.  Before moving forward, I will perform oversampling..."
      ],
      "metadata": {
        "id": "IyfXGMoJw92s"
      }
    },
    {
      "cell_type": "code",
      "source": [
        "# create working DF based on insights derived from Sweet viz\n",
        "df = data.loc[:, ['V3','V4','V7','V10','V11','V12','V14','V16','V17','Class']]\n",
        "df.head()"
      ],
      "metadata": {
        "colab": {
          "base_uri": "https://localhost:8080/",
          "height": 206
        },
        "id": "7x3qb2aG1lXI",
        "outputId": "d9b2aa12-3805-45dc-a50d-c6e972b16ec1"
      },
      "execution_count": 19,
      "outputs": [
        {
          "output_type": "execute_result",
          "data": {
            "text/plain": [
              "    V3    V4    V7   V10   V11   V12   V14   V16   V17  Class\n",
              "0 2.54  1.38  0.24  0.09 -0.55 -0.62 -0.31 -0.47  0.21      0\n",
              "1 0.17  0.45 -0.08 -0.17  1.61  1.07 -0.14  0.46 -0.11      0\n",
              "2 1.77  0.38  0.79  0.21  0.62  0.07 -0.17 -2.89  1.11      0\n",
              "3 1.79 -0.86  0.24 -0.05 -0.23  0.18 -0.29 -1.06 -0.68      0\n",
              "4 1.55  0.40  0.59  0.75 -0.82  0.54 -1.12 -0.45 -0.24      0"
            ],
            "text/html": [
              "\n",
              "  <div id=\"df-6713fd8b-6277-49e0-a6c8-20b9ca0cf9d0\">\n",
              "    <div class=\"colab-df-container\">\n",
              "      <div>\n",
              "<style scoped>\n",
              "    .dataframe tbody tr th:only-of-type {\n",
              "        vertical-align: middle;\n",
              "    }\n",
              "\n",
              "    .dataframe tbody tr th {\n",
              "        vertical-align: top;\n",
              "    }\n",
              "\n",
              "    .dataframe thead th {\n",
              "        text-align: right;\n",
              "    }\n",
              "</style>\n",
              "<table border=\"1\" class=\"dataframe\">\n",
              "  <thead>\n",
              "    <tr style=\"text-align: right;\">\n",
              "      <th></th>\n",
              "      <th>V3</th>\n",
              "      <th>V4</th>\n",
              "      <th>V7</th>\n",
              "      <th>V10</th>\n",
              "      <th>V11</th>\n",
              "      <th>V12</th>\n",
              "      <th>V14</th>\n",
              "      <th>V16</th>\n",
              "      <th>V17</th>\n",
              "      <th>Class</th>\n",
              "    </tr>\n",
              "  </thead>\n",
              "  <tbody>\n",
              "    <tr>\n",
              "      <th>0</th>\n",
              "      <td>2.54</td>\n",
              "      <td>1.38</td>\n",
              "      <td>0.24</td>\n",
              "      <td>0.09</td>\n",
              "      <td>-0.55</td>\n",
              "      <td>-0.62</td>\n",
              "      <td>-0.31</td>\n",
              "      <td>-0.47</td>\n",
              "      <td>0.21</td>\n",
              "      <td>0</td>\n",
              "    </tr>\n",
              "    <tr>\n",
              "      <th>1</th>\n",
              "      <td>0.17</td>\n",
              "      <td>0.45</td>\n",
              "      <td>-0.08</td>\n",
              "      <td>-0.17</td>\n",
              "      <td>1.61</td>\n",
              "      <td>1.07</td>\n",
              "      <td>-0.14</td>\n",
              "      <td>0.46</td>\n",
              "      <td>-0.11</td>\n",
              "      <td>0</td>\n",
              "    </tr>\n",
              "    <tr>\n",
              "      <th>2</th>\n",
              "      <td>1.77</td>\n",
              "      <td>0.38</td>\n",
              "      <td>0.79</td>\n",
              "      <td>0.21</td>\n",
              "      <td>0.62</td>\n",
              "      <td>0.07</td>\n",
              "      <td>-0.17</td>\n",
              "      <td>-2.89</td>\n",
              "      <td>1.11</td>\n",
              "      <td>0</td>\n",
              "    </tr>\n",
              "    <tr>\n",
              "      <th>3</th>\n",
              "      <td>1.79</td>\n",
              "      <td>-0.86</td>\n",
              "      <td>0.24</td>\n",
              "      <td>-0.05</td>\n",
              "      <td>-0.23</td>\n",
              "      <td>0.18</td>\n",
              "      <td>-0.29</td>\n",
              "      <td>-1.06</td>\n",
              "      <td>-0.68</td>\n",
              "      <td>0</td>\n",
              "    </tr>\n",
              "    <tr>\n",
              "      <th>4</th>\n",
              "      <td>1.55</td>\n",
              "      <td>0.40</td>\n",
              "      <td>0.59</td>\n",
              "      <td>0.75</td>\n",
              "      <td>-0.82</td>\n",
              "      <td>0.54</td>\n",
              "      <td>-1.12</td>\n",
              "      <td>-0.45</td>\n",
              "      <td>-0.24</td>\n",
              "      <td>0</td>\n",
              "    </tr>\n",
              "  </tbody>\n",
              "</table>\n",
              "</div>\n",
              "      <button class=\"colab-df-convert\" onclick=\"convertToInteractive('df-6713fd8b-6277-49e0-a6c8-20b9ca0cf9d0')\"\n",
              "              title=\"Convert this dataframe to an interactive table.\"\n",
              "              style=\"display:none;\">\n",
              "        \n",
              "  <svg xmlns=\"http://www.w3.org/2000/svg\" height=\"24px\"viewBox=\"0 0 24 24\"\n",
              "       width=\"24px\">\n",
              "    <path d=\"M0 0h24v24H0V0z\" fill=\"none\"/>\n",
              "    <path d=\"M18.56 5.44l.94 2.06.94-2.06 2.06-.94-2.06-.94-.94-2.06-.94 2.06-2.06.94zm-11 1L8.5 8.5l.94-2.06 2.06-.94-2.06-.94L8.5 2.5l-.94 2.06-2.06.94zm10 10l.94 2.06.94-2.06 2.06-.94-2.06-.94-.94-2.06-.94 2.06-2.06.94z\"/><path d=\"M17.41 7.96l-1.37-1.37c-.4-.4-.92-.59-1.43-.59-.52 0-1.04.2-1.43.59L10.3 9.45l-7.72 7.72c-.78.78-.78 2.05 0 2.83L4 21.41c.39.39.9.59 1.41.59.51 0 1.02-.2 1.41-.59l7.78-7.78 2.81-2.81c.8-.78.8-2.07 0-2.86zM5.41 20L4 18.59l7.72-7.72 1.47 1.35L5.41 20z\"/>\n",
              "  </svg>\n",
              "      </button>\n",
              "      \n",
              "  <style>\n",
              "    .colab-df-container {\n",
              "      display:flex;\n",
              "      flex-wrap:wrap;\n",
              "      gap: 12px;\n",
              "    }\n",
              "\n",
              "    .colab-df-convert {\n",
              "      background-color: #E8F0FE;\n",
              "      border: none;\n",
              "      border-radius: 50%;\n",
              "      cursor: pointer;\n",
              "      display: none;\n",
              "      fill: #1967D2;\n",
              "      height: 32px;\n",
              "      padding: 0 0 0 0;\n",
              "      width: 32px;\n",
              "    }\n",
              "\n",
              "    .colab-df-convert:hover {\n",
              "      background-color: #E2EBFA;\n",
              "      box-shadow: 0px 1px 2px rgba(60, 64, 67, 0.3), 0px 1px 3px 1px rgba(60, 64, 67, 0.15);\n",
              "      fill: #174EA6;\n",
              "    }\n",
              "\n",
              "    [theme=dark] .colab-df-convert {\n",
              "      background-color: #3B4455;\n",
              "      fill: #D2E3FC;\n",
              "    }\n",
              "\n",
              "    [theme=dark] .colab-df-convert:hover {\n",
              "      background-color: #434B5C;\n",
              "      box-shadow: 0px 1px 3px 1px rgba(0, 0, 0, 0.15);\n",
              "      filter: drop-shadow(0px 1px 2px rgba(0, 0, 0, 0.3));\n",
              "      fill: #FFFFFF;\n",
              "    }\n",
              "  </style>\n",
              "\n",
              "      <script>\n",
              "        const buttonEl =\n",
              "          document.querySelector('#df-6713fd8b-6277-49e0-a6c8-20b9ca0cf9d0 button.colab-df-convert');\n",
              "        buttonEl.style.display =\n",
              "          google.colab.kernel.accessAllowed ? 'block' : 'none';\n",
              "\n",
              "        async function convertToInteractive(key) {\n",
              "          const element = document.querySelector('#df-6713fd8b-6277-49e0-a6c8-20b9ca0cf9d0');\n",
              "          const dataTable =\n",
              "            await google.colab.kernel.invokeFunction('convertToInteractive',\n",
              "                                                     [key], {});\n",
              "          if (!dataTable) return;\n",
              "\n",
              "          const docLinkHtml = 'Like what you see? Visit the ' +\n",
              "            '<a target=\"_blank\" href=https://colab.research.google.com/notebooks/data_table.ipynb>data table notebook</a>'\n",
              "            + ' to learn more about interactive tables.';\n",
              "          element.innerHTML = '';\n",
              "          dataTable['output_type'] = 'display_data';\n",
              "          await google.colab.output.renderOutput(dataTable, element);\n",
              "          const docLink = document.createElement('div');\n",
              "          docLink.innerHTML = docLinkHtml;\n",
              "          element.appendChild(docLink);\n",
              "        }\n",
              "      </script>\n",
              "    </div>\n",
              "  </div>\n",
              "  "
            ]
          },
          "metadata": {},
          "execution_count": 19
        }
      ]
    },
    {
      "cell_type": "code",
      "source": [
        "df.drop_duplicates(keep='first', inplace=True)"
      ],
      "metadata": {
        "id": "N3ky9SA4ZNX_"
      },
      "execution_count": 85,
      "outputs": []
    },
    {
      "cell_type": "code",
      "source": [
        "# X/y Split \n",
        "X = df.loc[:, df.columns != 'Class']\n",
        "y = df['Class']\n",
        "# Test Train Split\n",
        "X_train, X_test, y_train, y_test = train_test_split(X, y, test_size = 0.3, random_state = 0)\n",
        "print(f'Test Shape (X, y): {X_test.shape}, {y_test.shape}\\nTrain shape (X, y): {X_train.shape}, {y_train.shape}')"
      ],
      "metadata": {
        "colab": {
          "base_uri": "https://localhost:8080/"
        },
        "id": "yGtEjPTr197w",
        "outputId": "b0d5365b-ae1f-4ea9-8462-89372339a60b"
      },
      "execution_count": 86,
      "outputs": [
        {
          "output_type": "stream",
          "name": "stdout",
          "text": [
            "Test Shape (X, y): (82699, 9), (82699,)\n",
            "Train shape (X, y): (192964, 9), (192964,)\n"
          ]
        }
      ]
    },
    {
      "cell_type": "markdown",
      "source": [
        "*** I think I want to AutoClean before Oversampling, but there was the issue of Missclassifying values in Class as outliers because of the imbalance... thus Oversampling should come first"
      ],
      "metadata": {
        "id": "dUYKuZ5g35Ii"
      }
    },
    {
      "cell_type": "code",
      "source": [],
      "metadata": {
        "id": "cQiiNPubZKFW"
      },
      "execution_count": null,
      "outputs": []
    },
    {
      "cell_type": "code",
      "source": [
        "# initialize smote\n",
        "sm=SMOTE(random_state = 2)\n",
        "# Split Data\n",
        "X, y = sm.fit_resample(X, y)"
      ],
      "metadata": {
        "id": "RKS1Jg-QwEZM"
      },
      "execution_count": 87,
      "outputs": []
    },
    {
      "cell_type": "code",
      "source": [
        "sns.countplot(y)"
      ],
      "metadata": {
        "colab": {
          "base_uri": "https://localhost:8080/",
          "height": 395
        },
        "id": "kN2ipn9Q005S",
        "outputId": "71076808-924e-410e-c911-6c2a18cfea65"
      },
      "execution_count": 88,
      "outputs": [
        {
          "output_type": "execute_result",
          "data": {
            "text/plain": [
              "<AxesSubplot:xlabel='Class', ylabel='count'>"
            ]
          },
          "metadata": {},
          "execution_count": 88
        },
        {
          "output_type": "display_data",
          "data": {
            "text/plain": [
              "<Figure size 600x400 with 1 Axes>"
            ],
            "image/png": "[encoded data removed]"
          },
          "metadata": {}
        }
      ]
    },
    {
      "cell_type": "code",
      "source": [
        "smoted = pd.concat([X,y], axis=1)\n",
        "smoted.info()"
      ],
      "metadata": {
        "colab": {
          "base_uri": "https://localhost:8080/"
        },
        "id": "Vn4ro5h55Dmy",
        "outputId": "34a8eee1-7d81-4fa6-f0c8-437450b3b827"
      },
      "execution_count": 89,
      "outputs": [
        {
          "output_type": "stream",
          "name": "stdout",
          "text": [
            "<class 'pandas.core.frame.DataFrame'>\n",
            "RangeIndex: 550380 entries, 0 to 550379\n",
            "Data columns (total 10 columns):\n",
            " #   Column  Non-Null Count   Dtype  \n",
            "---  ------  --------------   -----  \n",
            " 0   V3      550380 non-null  float64\n",
            " 1   V4      550380 non-null  float64\n",
            " 2   V7      550380 non-null  float64\n",
            " 3   V10     550380 non-null  float64\n",
            " 4   V11     550380 non-null  float64\n",
            " 5   V12     550380 non-null  float64\n",
            " 6   V14     550380 non-null  float64\n",
            " 7   V16     550380 non-null  float64\n",
            " 8   V17     550380 non-null  float64\n",
            " 9   Class   550380 non-null  int64  \n",
            "dtypes: float64(9), int64(1)\n",
            "memory usage: 42.0 MB\n"
          ]
        }
      ]
    },
    {
      "cell_type": "code",
      "source": [
        "smoted.head()"
      ],
      "metadata": {
        "colab": {
          "base_uri": "https://localhost:8080/",
          "height": 206
        },
        "id": "BZvtuzL25WVn",
        "outputId": "edaa0cef-a6b5-4913-ef4a-bddf5bec34b4"
      },
      "execution_count": 90,
      "outputs": [
        {
          "output_type": "execute_result",
          "data": {
            "text/plain": [
              "    V3    V4    V7   V10   V11   V12   V14   V16   V17  Class\n",
              "0 2.54  1.38  0.24  0.09 -0.55 -0.62 -0.31 -0.47  0.21      0\n",
              "1 0.17  0.45 -0.08 -0.17  1.61  1.07 -0.14  0.46 -0.11      0\n",
              "2 1.77  0.38  0.79  0.21  0.62  0.07 -0.17 -2.89  1.11      0\n",
              "3 1.79 -0.86  0.24 -0.05 -0.23  0.18 -0.29 -1.06 -0.68      0\n",
              "4 1.55  0.40  0.59  0.75 -0.82  0.54 -1.12 -0.45 -0.24      0"
            ],
            "text/html": [
              "\n",
              "  <div id=\"df-cc59992a-b790-4f6c-9514-760a4b44b939\">\n",
              "    <div class=\"colab-df-container\">\n",
              "      <div>\n",
              "<style scoped>\n",
              "    .dataframe tbody tr th:only-of-type {\n",
              "        vertical-align: middle;\n",
              "    }\n",
              "\n",
              "    .dataframe tbody tr th {\n",
              "        vertical-align: top;\n",
              "    }\n",
              "\n",
              "    .dataframe thead th {\n",
              "        text-align: right;\n",
              "    }\n",
              "</style>\n",
              "<table border=\"1\" class=\"dataframe\">\n",
              "  <thead>\n",
              "    <tr style=\"text-align: right;\">\n",
              "      <th></th>\n",
              "      <th>V3</th>\n",
              "      <th>V4</th>\n",
              "      <th>V7</th>\n",
              "      <th>V10</th>\n",
              "      <th>V11</th>\n",
              "      <th>V12</th>\n",
              "      <th>V14</th>\n",
              "      <th>V16</th>\n",
              "      <th>V17</th>\n",
              "      <th>Class</th>\n",
              "    </tr>\n",
              "  </thead>\n",
              "  <tbody>\n",
              "    <tr>\n",
              "      <th>0</th>\n",
              "      <td>2.54</td>\n",
              "      <td>1.38</td>\n",
              "      <td>0.24</td>\n",
              "      <td>0.09</td>\n",
              "      <td>-0.55</td>\n",
              "      <td>-0.62</td>\n",
              "      <td>-0.31</td>\n",
              "      <td>-0.47</td>\n",
              "      <td>0.21</td>\n",
              "      <td>0</td>\n",
              "    </tr>\n",
              "    <tr>\n",
              "      <th>1</th>\n",
              "      <td>0.17</td>\n",
              "      <td>0.45</td>\n",
              "      <td>-0.08</td>\n",
              "      <td>-0.17</td>\n",
              "      <td>1.61</td>\n",
              "      <td>1.07</td>\n",
              "      <td>-0.14</td>\n",
              "      <td>0.46</td>\n",
              "      <td>-0.11</td>\n",
              "      <td>0</td>\n",
              "    </tr>\n",
              "    <tr>\n",
              "      <th>2</th>\n",
              "      <td>1.77</td>\n",
              "      <td>0.38</td>\n",
              "      <td>0.79</td>\n",
              "      <td>0.21</td>\n",
              "      <td>0.62</td>\n",
              "      <td>0.07</td>\n",
              "      <td>-0.17</td>\n",
              "      <td>-2.89</td>\n",
              "      <td>1.11</td>\n",
              "      <td>0</td>\n",
              "    </tr>\n",
              "    <tr>\n",
              "      <th>3</th>\n",
              "      <td>1.79</td>\n",
              "      <td>-0.86</td>\n",
              "      <td>0.24</td>\n",
              "      <td>-0.05</td>\n",
              "      <td>-0.23</td>\n",
              "      <td>0.18</td>\n",
              "      <td>-0.29</td>\n",
              "      <td>-1.06</td>\n",
              "      <td>-0.68</td>\n",
              "      <td>0</td>\n",
              "    </tr>\n",
              "    <tr>\n",
              "      <th>4</th>\n",
              "      <td>1.55</td>\n",
              "      <td>0.40</td>\n",
              "      <td>0.59</td>\n",
              "      <td>0.75</td>\n",
              "      <td>-0.82</td>\n",
              "      <td>0.54</td>\n",
              "      <td>-1.12</td>\n",
              "      <td>-0.45</td>\n",
              "      <td>-0.24</td>\n",
              "      <td>0</td>\n",
              "    </tr>\n",
              "  </tbody>\n",
              "</table>\n",
              "</div>\n",
              "      <button class=\"colab-df-convert\" onclick=\"convertToInteractive('df-cc59992a-b790-4f6c-9514-760a4b44b939')\"\n",
              "              title=\"Convert this dataframe to an interactive table.\"\n",
              "              style=\"display:none;\">\n",
              "        \n",
              "  <svg xmlns=\"http://www.w3.org/2000/svg\" height=\"24px\"viewBox=\"0 0 24 24\"\n",
              "       width=\"24px\">\n",
              "    <path d=\"M0 0h24v24H0V0z\" fill=\"none\"/>\n",
              "    <path d=\"M18.56 5.44l.94 2.06.94-2.06 2.06-.94-2.06-.94-.94-2.06-.94 2.06-2.06.94zm-11 1L8.5 8.5l.94-2.06 2.06-.94-2.06-.94L8.5 2.5l-.94 2.06-2.06.94zm10 10l.94 2.06.94-2.06 2.06-.94-2.06-.94-.94-2.06-.94 2.06-2.06.94z\"/><path d=\"M17.41 7.96l-1.37-1.37c-.4-.4-.92-.59-1.43-.59-.52 0-1.04.2-1.43.59L10.3 9.45l-7.72 7.72c-.78.78-.78 2.05 0 2.83L4 21.41c.39.39.9.59 1.41.59.51 0 1.02-.2 1.41-.59l7.78-7.78 2.81-2.81c.8-.78.8-2.07 0-2.86zM5.41 20L4 18.59l7.72-7.72 1.47 1.35L5.41 20z\"/>\n",
              "  </svg>\n",
              "      </button>\n",
              "      \n",
              "  <style>\n",
              "    .colab-df-container {\n",
              "      display:flex;\n",
              "      flex-wrap:wrap;\n",
              "      gap: 12px;\n",
              "    }\n",
              "\n",
              "    .colab-df-convert {\n",
              "      background-color: #E8F0FE;\n",
              "      border: none;\n",
              "      border-radius: 50%;\n",
              "      cursor: pointer;\n",
              "      display: none;\n",
              "      fill: #1967D2;\n",
              "      height: 32px;\n",
              "      padding: 0 0 0 0;\n",
              "      width: 32px;\n",
              "    }\n",
              "\n",
              "    .colab-df-convert:hover {\n",
              "      background-color: #E2EBFA;\n",
              "      box-shadow: 0px 1px 2px rgba(60, 64, 67, 0.3), 0px 1px 3px 1px rgba(60, 64, 67, 0.15);\n",
              "      fill: #174EA6;\n",
              "    }\n",
              "\n",
              "    [theme=dark] .colab-df-convert {\n",
              "      background-color: #3B4455;\n",
              "      fill: #D2E3FC;\n",
              "    }\n",
              "\n",
              "    [theme=dark] .colab-df-convert:hover {\n",
              "      background-color: #434B5C;\n",
              "      box-shadow: 0px 1px 3px 1px rgba(0, 0, 0, 0.15);\n",
              "      filter: drop-shadow(0px 1px 2px rgba(0, 0, 0, 0.3));\n",
              "      fill: #FFFFFF;\n",
              "    }\n",
              "  </style>\n",
              "\n",
              "      <script>\n",
              "        const buttonEl =\n",
              "          document.querySelector('#df-cc59992a-b790-4f6c-9514-760a4b44b939 button.colab-df-convert');\n",
              "        buttonEl.style.display =\n",
              "          google.colab.kernel.accessAllowed ? 'block' : 'none';\n",
              "\n",
              "        async function convertToInteractive(key) {\n",
              "          const element = document.querySelector('#df-cc59992a-b790-4f6c-9514-760a4b44b939');\n",
              "          const dataTable =\n",
              "            await google.colab.kernel.invokeFunction('convertToInteractive',\n",
              "                                                     [key], {});\n",
              "          if (!dataTable) return;\n",
              "\n",
              "          const docLinkHtml = 'Like what you see? Visit the ' +\n",
              "            '<a target=\"_blank\" href=https://colab.research.google.com/notebooks/data_table.ipynb>data table notebook</a>'\n",
              "            + ' to learn more about interactive tables.';\n",
              "          element.innerHTML = '';\n",
              "          dataTable['output_type'] = 'display_data';\n",
              "          await google.colab.output.renderOutput(dataTable, element);\n",
              "          const docLink = document.createElement('div');\n",
              "          docLink.innerHTML = docLinkHtml;\n",
              "          element.appendChild(docLink);\n",
              "        }\n",
              "      </script>\n",
              "    </div>\n",
              "  </div>\n",
              "  "
            ]
          },
          "metadata": {},
          "execution_count": 90
        }
      ]
    },
    {
      "cell_type": "code",
      "source": [
        "sns.countplot(smoted.Class)"
      ],
      "metadata": {
        "colab": {
          "base_uri": "https://localhost:8080/",
          "height": 395
        },
        "id": "gvryIZJxYD8r",
        "outputId": "ab078507-5986-42ae-f7a2-a4b95346e5c0"
      },
      "execution_count": 91,
      "outputs": [
        {
          "output_type": "execute_result",
          "data": {
            "text/plain": [
              "<AxesSubplot:xlabel='Class', ylabel='count'>"
            ]
          },
          "metadata": {},
          "execution_count": 91
        },
        {
          "output_type": "display_data",
          "data": {
            "text/plain": [
              "<Figure size 600x400 with 1 Axes>"
            ],
            "image/png": "[encoded data removed]"
          },
          "metadata": {}
        }
      ]
    },
    {
      "cell_type": "markdown",
      "source": [
        "## Experiment with Lazy Classifier\n",
        "- on smoted df (smoted, df_samp)\n",
        "- on original df (data, df_samp2)\n",
        "- on slimmed df (df, df_samp3)"
      ],
      "metadata": {
        "id": "Z6F1n_ODAxWr"
      }
    },
    {
      "cell_type": "code",
      "source": [
        "df_samp= smoted.sample(n=20000)"
      ],
      "metadata": {
        "id": "0UDanywq_4BQ"
      },
      "execution_count": 38,
      "outputs": []
    },
    {
      "cell_type": "code",
      "source": [
        "# X/y Split \n",
        "X = df_samp.loc[:, smoted.columns != 'Class']\n",
        "y = df_samp['Class']\n",
        "# Test Train Split\n",
        "X_train, X_test, y_train, y_test = train_test_split(X, y, test_size = 0.3, random_state = 0)\n",
        "print(f'Test Shape (X, y): {X_test.shape}, {y_test.shape}\\nTrain shape (X, y): {X_train.shape}, {y_train.shape}')"
      ],
      "metadata": {
        "colab": {
          "base_uri": "https://localhost:8080/"
        },
        "id": "lrLQy6mX_meh",
        "outputId": "b0b0643b-90ce-4988-822f-c0327caaaba9"
      },
      "execution_count": 44,
      "outputs": [
        {
          "output_type": "stream",
          "name": "stdout",
          "text": [
            "Test Shape (X, y): (6000, 9), (6000,)\n",
            "Train shape (X, y): (14000, 9), (14000,)\n"
          ]
        }
      ]
    },
    {
      "cell_type": "code",
      "source": [
        "# fit all models\n",
        "clf = LazyClassifier(predictions=True)\n",
        "models, predictions = clf.fit(X_train, X_test, y_train, y_test)"
      ],
      "metadata": {
        "colab": {
          "base_uri": "https://localhost:8080/"
        },
        "id": "8HhSggbH_ebD",
        "outputId": "aee3aef3-1f04-4fd3-c552-f0220021f0c1"
      },
      "execution_count": 45,
      "outputs": [
        {
          "output_type": "stream",
          "name": "stderr",
          "text": [
            "100%|██████████| 29/29 [00:22<00:00,  1.26it/s]\n"
          ]
        }
      ]
    },
    {
      "cell_type": "code",
      "source": [
        "models"
      ],
      "metadata": {
        "id": "qqwwCx4WATht"
      },
      "execution_count": null,
      "outputs": []
    },
    {
      "cell_type": "code",
      "source": [
        "df_samp2= data.sample(n=20000)\n",
        "# X/y Split \n",
        "X = df_samp2.loc[:, data.columns != 'Class']\n",
        "y = df_samp2['Class']\n",
        "# Test Train Split\n",
        "X_train, X_test, y_train, y_test = train_test_split(X, y, test_size = 0.3, random_state = 0)\n",
        "print(f'Test Shape (X, y): {X_test.shape}, {y_test.shape}\\nTrain shape (X, y): {X_train.shape}, {y_train.shape}')\n",
        "# fit all models\n",
        "clf = LazyClassifier(predictions=True)\n",
        "models, predictions = clf.fit(X_train, X_test, y_train, y_test)\n",
        "models"
      ],
      "metadata": {
        "colab": {
          "base_uri": "https://localhost:8080/",
          "height": 885
        },
        "id": "J8RJpl_lBJ6S",
        "outputId": "3026b847-4006-45d5-e1de-b0f1f0c1d6f8"
      },
      "execution_count": 51,
      "outputs": [
        {
          "output_type": "stream",
          "name": "stdout",
          "text": [
            "Test Shape (X, y): (6000, 30), (6000,)\n",
            "Train shape (X, y): (14000, 30), (14000,)\n"
          ]
        },
        {
          "output_type": "stream",
          "name": "stderr",
          "text": [
            "100%|██████████| 29/29 [00:38<00:00,  1.33s/it]\n"
          ]
        },
        {
          "output_type": "execute_result",
          "data": {
            "text/plain": [
              "                               Accuracy  Balanced Accuracy  ROC AUC  F1 Score  \\\n",
              "Model                                                                           \n",
              "ExtraTreeClassifier                1.00               1.00     1.00      1.00   \n",
              "Perceptron                         1.00               1.00     1.00      1.00   \n",
              "GaussianNB                         0.98               0.99     0.99      0.99   \n",
              "AdaBoostClassifier                 1.00               0.94     0.94      1.00   \n",
              "XGBClassifier                      1.00               0.94     0.94      1.00   \n",
              "BaggingClassifier                  1.00               0.94     0.94      1.00   \n",
              "NearestCentroid                    1.00               0.89     0.89      1.00   \n",
              "LinearDiscriminantAnalysis         1.00               0.89     0.89      1.00   \n",
              "KNeighborsClassifier               1.00               0.89     0.89      1.00   \n",
              "LogisticRegression                 1.00               0.89     0.89      1.00   \n",
              "PassiveAggressiveClassifier        1.00               0.89     0.89      1.00   \n",
              "ExtraTreesClassifier               1.00               0.83     0.83      1.00   \n",
              "DecisionTreeClassifier             1.00               0.83     0.83      1.00   \n",
              "SGDClassifier                      1.00               0.83     0.83      1.00   \n",
              "BernoulliNB                        1.00               0.83     0.83      1.00   \n",
              "RandomForestClassifier             1.00               0.78     0.78      1.00   \n",
              "LinearSVC                          1.00               0.72     0.72      1.00   \n",
              "CalibratedClassifierCV             1.00               0.72     0.72      1.00   \n",
              "SVC                                1.00               0.72     0.72      1.00   \n",
              "RidgeClassifier                    1.00               0.72     0.72      1.00   \n",
              "RidgeClassifierCV                  1.00               0.72     0.72      1.00   \n",
              "DummyClassifier                    1.00               0.50     0.50      1.00   \n",
              "QuadraticDiscriminantAnalysis      1.00               0.50     0.50      1.00   \n",
              "LGBMClassifier                     0.98               0.49     0.49      0.99   \n",
              "\n",
              "                               Time Taken  \n",
              "Model                                      \n",
              "ExtraTreeClassifier                  0.06  \n",
              "Perceptron                           0.08  \n",
              "GaussianNB                           0.05  \n",
              "AdaBoostClassifier                   3.87  \n",
              "XGBClassifier                        4.84  \n",
              "BaggingClassifier                    2.43  \n",
              "NearestCentroid                      0.08  \n",
              "LinearDiscriminantAnalysis           0.12  \n",
              "KNeighborsClassifier                 0.68  \n",
              "LogisticRegression                   0.18  \n",
              "PassiveAggressiveClassifier          0.08  \n",
              "ExtraTreesClassifier                 1.00  \n",
              "DecisionTreeClassifier               0.49  \n",
              "SGDClassifier                        0.10  \n",
              "BernoulliNB                          0.09  \n",
              "RandomForestClassifier               4.24  \n",
              "LinearSVC                            0.28  \n",
              "CalibratedClassifierCV               1.25  \n",
              "SVC                                  0.85  \n",
              "RidgeClassifier                      0.06  \n",
              "RidgeClassifierCV                    0.09  \n",
              "DummyClassifier                      0.05  \n",
              "QuadraticDiscriminantAnalysis        0.09  \n",
              "LGBMClassifier                       0.86  "
            ],
            "text/html": [
              "\n",
              "  <div id=\"df-28170559-0f3d-419f-8de9-4ab1087ea451\">\n",
              "    <div class=\"colab-df-container\">\n",
              "      <div>\n",
              "<style scoped>\n",
              "    .dataframe tbody tr th:only-of-type {\n",
              "        vertical-align: middle;\n",
              "    }\n",
              "\n",
              "    .dataframe tbody tr th {\n",
              "        vertical-align: top;\n",
              "    }\n",
              "\n",
              "    .dataframe thead th {\n",
              "        text-align: right;\n",
              "    }\n",
              "</style>\n",
              "<table border=\"1\" class=\"dataframe\">\n",
              "  <thead>\n",
              "    <tr style=\"text-align: right;\">\n",
              "      <th></th>\n",
              "      <th>Accuracy</th>\n",
              "      <th>Balanced Accuracy</th>\n",
              "      <th>ROC AUC</th>\n",
              "      <th>F1 Score</th>\n",
              "      <th>Time Taken</th>\n",
              "    </tr>\n",
              "    <tr>\n",
              "      <th>Model</th>\n",
              "      <th></th>\n",
              "      <th></th>\n",
              "      <th></th>\n",
              "      <th></th>\n",
              "      <th></th>\n",
              "    </tr>\n",
              "  </thead>\n",
              "  <tbody>\n",
              "    <tr>\n",
              "      <th>ExtraTreeClassifier</th>\n",
              "      <td>1.00</td>\n",
              "      <td>1.00</td>\n",
              "      <td>1.00</td>\n",
              "      <td>1.00</td>\n",
              "      <td>0.06</td>\n",
              "    </tr>\n",
              "    <tr>\n",
              "      <th>Perceptron</th>\n",
              "      <td>1.00</td>\n",
              "      <td>1.00</td>\n",
              "      <td>1.00</td>\n",
              "      <td>1.00</td>\n",
              "      <td>0.08</td>\n",
              "    </tr>\n",
              "    <tr>\n",
              "      <th>GaussianNB</th>\n",
              "      <td>0.98</td>\n",
              "      <td>0.99</td>\n",
              "      <td>0.99</td>\n",
              "      <td>0.99</td>\n",
              "      <td>0.05</td>\n",
              "    </tr>\n",
              "    <tr>\n",
              "      <th>AdaBoostClassifier</th>\n",
              "      <td>1.00</td>\n",
              "      <td>0.94</td>\n",
              "      <td>0.94</td>\n",
              "      <td>1.00</td>\n",
              "      <td>3.87</td>\n",
              "    </tr>\n",
              "    <tr>\n",
              "      <th>XGBClassifier</th>\n",
              "      <td>1.00</td>\n",
              "      <td>0.94</td>\n",
              "      <td>0.94</td>\n",
              "      <td>1.00</td>\n",
              "      <td>4.84</td>\n",
              "    </tr>\n",
              "    <tr>\n",
              "      <th>BaggingClassifier</th>\n",
              "      <td>1.00</td>\n",
              "      <td>0.94</td>\n",
              "      <td>0.94</td>\n",
              "      <td>1.00</td>\n",
              "      <td>2.43</td>\n",
              "    </tr>\n",
              "    <tr>\n",
              "      <th>NearestCentroid</th>\n",
              "      <td>1.00</td>\n",
              "      <td>0.89</td>\n",
              "      <td>0.89</td>\n",
              "      <td>1.00</td>\n",
              "      <td>0.08</td>\n",
              "    </tr>\n",
              "    <tr>\n",
              "      <th>LinearDiscriminantAnalysis</th>\n",
              "      <td>1.00</td>\n",
              "      <td>0.89</td>\n",
              "      <td>0.89</td>\n",
              "      <td>1.00</td>\n",
              "      <td>0.12</td>\n",
              "    </tr>\n",
              "    <tr>\n",
              "      <th>KNeighborsClassifier</th>\n",
              "      <td>1.00</td>\n",
              "      <td>0.89</td>\n",
              "      <td>0.89</td>\n",
              "      <td>1.00</td>\n",
              "      <td>0.68</td>\n",
              "    </tr>\n",
              "    <tr>\n",
              "      <th>LogisticRegression</th>\n",
              "      <td>1.00</td>\n",
              "      <td>0.89</td>\n",
              "      <td>0.89</td>\n",
              "      <td>1.00</td>\n",
              "      <td>0.18</td>\n",
              "    </tr>\n",
              "    <tr>\n",
              "      <th>PassiveAggressiveClassifier</th>\n",
              "      <td>1.00</td>\n",
              "      <td>0.89</td>\n",
              "      <td>0.89</td>\n",
              "      <td>1.00</td>\n",
              "      <td>0.08</td>\n",
              "    </tr>\n",
              "    <tr>\n",
              "      <th>ExtraTreesClassifier</th>\n",
              "      <td>1.00</td>\n",
              "      <td>0.83</td>\n",
              "      <td>0.83</td>\n",
              "      <td>1.00</td>\n",
              "      <td>1.00</td>\n",
              "    </tr>\n",
              "    <tr>\n",
              "      <th>DecisionTreeClassifier</th>\n",
              "      <td>1.00</td>\n",
              "      <td>0.83</td>\n",
              "      <td>0.83</td>\n",
              "      <td>1.00</td>\n",
              "      <td>0.49</td>\n",
              "    </tr>\n",
              "    <tr>\n",
              "      <th>SGDClassifier</th>\n",
              "      <td>1.00</td>\n",
              "      <td>0.83</td>\n",
              "      <td>0.83</td>\n",
              "      <td>1.00</td>\n",
              "      <td>0.10</td>\n",
              "    </tr>\n",
              "    <tr>\n",
              "      <th>BernoulliNB</th>\n",
              "      <td>1.00</td>\n",
              "      <td>0.83</td>\n",
              "      <td>0.83</td>\n",
              "      <td>1.00</td>\n",
              "      <td>0.09</td>\n",
              "    </tr>\n",
              "    <tr>\n",
              "      <th>RandomForestClassifier</th>\n",
              "      <td>1.00</td>\n",
              "      <td>0.78</td>\n",
              "      <td>0.78</td>\n",
              "      <td>1.00</td>\n",
              "      <td>4.24</td>\n",
              "    </tr>\n",
              "    <tr>\n",
              "      <th>LinearSVC</th>\n",
              "      <td>1.00</td>\n",
              "      <td>0.72</td>\n",
              "      <td>0.72</td>\n",
              "      <td>1.00</td>\n",
              "      <td>0.28</td>\n",
              "    </tr>\n",
              "    <tr>\n",
              "      <th>CalibratedClassifierCV</th>\n",
              "      <td>1.00</td>\n",
              "      <td>0.72</td>\n",
              "      <td>0.72</td>\n",
              "      <td>1.00</td>\n",
              "      <td>1.25</td>\n",
              "    </tr>\n",
              "    <tr>\n",
              "      <th>SVC</th>\n",
              "      <td>1.00</td>\n",
              "      <td>0.72</td>\n",
              "      <td>0.72</td>\n",
              "      <td>1.00</td>\n",
              "      <td>0.85</td>\n",
              "    </tr>\n",
              "    <tr>\n",
              "      <th>RidgeClassifier</th>\n",
              "      <td>1.00</td>\n",
              "      <td>0.72</td>\n",
              "      <td>0.72</td>\n",
              "      <td>1.00</td>\n",
              "      <td>0.06</td>\n",
              "    </tr>\n",
              "    <tr>\n",
              "      <th>RidgeClassifierCV</th>\n",
              "      <td>1.00</td>\n",
              "      <td>0.72</td>\n",
              "      <td>0.72</td>\n",
              "      <td>1.00</td>\n",
              "      <td>0.09</td>\n",
              "    </tr>\n",
              "    <tr>\n",
              "      <th>DummyClassifier</th>\n",
              "      <td>1.00</td>\n",
              "      <td>0.50</td>\n",
              "      <td>0.50</td>\n",
              "      <td>1.00</td>\n",
              "      <td>0.05</td>\n",
              "    </tr>\n",
              "    <tr>\n",
              "      <th>QuadraticDiscriminantAnalysis</th>\n",
              "      <td>1.00</td>\n",
              "      <td>0.50</td>\n",
              "      <td>0.50</td>\n",
              "      <td>1.00</td>\n",
              "      <td>0.09</td>\n",
              "    </tr>\n",
              "    <tr>\n",
              "      <th>LGBMClassifier</th>\n",
              "      <td>0.98</td>\n",
              "      <td>0.49</td>\n",
              "      <td>0.49</td>\n",
              "      <td>0.99</td>\n",
              "      <td>0.86</td>\n",
              "    </tr>\n",
              "  </tbody>\n",
              "</table>\n",
              "</div>\n",
              "      <button class=\"colab-df-convert\" onclick=\"convertToInteractive('df-28170559-0f3d-419f-8de9-4ab1087ea451')\"\n",
              "              title=\"Convert this dataframe to an interactive table.\"\n",
              "              style=\"display:none;\">\n",
              "        \n",
              "  <svg xmlns=\"http://www.w3.org/2000/svg\" height=\"24px\"viewBox=\"0 0 24 24\"\n",
              "       width=\"24px\">\n",
              "    <path d=\"M0 0h24v24H0V0z\" fill=\"none\"/>\n",
              "    <path d=\"M18.56 5.44l.94 2.06.94-2.06 2.06-.94-2.06-.94-.94-2.06-.94 2.06-2.06.94zm-11 1L8.5 8.5l.94-2.06 2.06-.94-2.06-.94L8.5 2.5l-.94 2.06-2.06.94zm10 10l.94 2.06.94-2.06 2.06-.94-2.06-.94-.94-2.06-.94 2.06-2.06.94z\"/><path d=\"M17.41 7.96l-1.37-1.37c-.4-.4-.92-.59-1.43-.59-.52 0-1.04.2-1.43.59L10.3 9.45l-7.72 7.72c-.78.78-.78 2.05 0 2.83L4 21.41c.39.39.9.59 1.41.59.51 0 1.02-.2 1.41-.59l7.78-7.78 2.81-2.81c.8-.78.8-2.07 0-2.86zM5.41 20L4 18.59l7.72-7.72 1.47 1.35L5.41 20z\"/>\n",
              "  </svg>\n",
              "      </button>\n",
              "      \n",
              "  <style>\n",
              "    .colab-df-container {\n",
              "      display:flex;\n",
              "      flex-wrap:wrap;\n",
              "      gap: 12px;\n",
              "    }\n",
              "\n",
              "    .colab-df-convert {\n",
              "      background-color: #E8F0FE;\n",
              "      border: none;\n",
              "      border-radius: 50%;\n",
              "      cursor: pointer;\n",
              "      display: none;\n",
              "      fill: #1967D2;\n",
              "      height: 32px;\n",
              "      padding: 0 0 0 0;\n",
              "      width: 32px;\n",
              "    }\n",
              "\n",
              "    .colab-df-convert:hover {\n",
              "      background-color: #E2EBFA;\n",
              "      box-shadow: 0px 1px 2px rgba(60, 64, 67, 0.3), 0px 1px 3px 1px rgba(60, 64, 67, 0.15);\n",
              "      fill: #174EA6;\n",
              "    }\n",
              "\n",
              "    [theme=dark] .colab-df-convert {\n",
              "      background-color: #3B4455;\n",
              "      fill: #D2E3FC;\n",
              "    }\n",
              "\n",
              "    [theme=dark] .colab-df-convert:hover {\n",
              "      background-color: #434B5C;\n",
              "      box-shadow: 0px 1px 3px 1px rgba(0, 0, 0, 0.15);\n",
              "      filter: drop-shadow(0px 1px 2px rgba(0, 0, 0, 0.3));\n",
              "      fill: #FFFFFF;\n",
              "    }\n",
              "  </style>\n",
              "\n",
              "      <script>\n",
              "        const buttonEl =\n",
              "          document.querySelector('#df-28170559-0f3d-419f-8de9-4ab1087ea451 button.colab-df-convert');\n",
              "        buttonEl.style.display =\n",
              "          google.colab.kernel.accessAllowed ? 'block' : 'none';\n",
              "\n",
              "        async function convertToInteractive(key) {\n",
              "          const element = document.querySelector('#df-28170559-0f3d-419f-8de9-4ab1087ea451');\n",
              "          const dataTable =\n",
              "            await google.colab.kernel.invokeFunction('convertToInteractive',\n",
              "                                                     [key], {});\n",
              "          if (!dataTable) return;\n",
              "\n",
              "          const docLinkHtml = 'Like what you see? Visit the ' +\n",
              "            '<a target=\"_blank\" href=https://colab.research.google.com/notebooks/data_table.ipynb>data table notebook</a>'\n",
              "            + ' to learn more about interactive tables.';\n",
              "          element.innerHTML = '';\n",
              "          dataTable['output_type'] = 'display_data';\n",
              "          await google.colab.output.renderOutput(dataTable, element);\n",
              "          const docLink = document.createElement('div');\n",
              "          docLink.innerHTML = docLinkHtml;\n",
              "          element.appendChild(docLink);\n",
              "        }\n",
              "      </script>\n",
              "    </div>\n",
              "  </div>\n",
              "  "
            ]
          },
          "metadata": {},
          "execution_count": 51
        }
      ]
    },
    {
      "cell_type": "code",
      "source": [
        "df_samp3= df.sample(n=20000)\n",
        "# X/y Split \n",
        "X = df_samp3.loc[:, df.columns != 'Class']\n",
        "y = df_samp3['Class']\n",
        "# Test Train Split\n",
        "X_train, X_test, y_train, y_test = train_test_split(X, y, test_size = 0.3, random_state = 0)\n",
        "print(f'Test Shape (X, y): {X_test.shape}, {y_test.shape}\\nTrain shape (X, y): {X_train.shape}, {y_train.shape}')\n",
        "# fit all models\n",
        "clf = LazyClassifier(predictions=True)\n",
        "models, predictions = clf.fit(X_train, X_test, y_train, y_test)\n",
        "models"
      ],
      "metadata": {
        "id": "6O0ujVjYBgUm"
      },
      "execution_count": null,
      "outputs": []
    },
    {
      "cell_type": "markdown",
      "source": [
        "### Running lazy classifier on the 3 different versions we have of the data so far, we see that there are numerous models we could use that will give optimal accuracy.\n",
        "\n",
        "Compared to out findings yesterday where ANN gave 97% I think ANN is the best bet.\n",
        "\n",
        "One last version of the data is to adjust for outliers and duplicates (with AutoClean)"
      ],
      "metadata": {
        "id": "fW2QlNxHCPa8"
      }
    },
    {
      "cell_type": "code",
      "source": [
        "# initializing all the model objects with default parameters\n",
        "model_1 = AdaBoostClassifier()\n",
        "model_2 = XGBClassifier()\n",
        "model_3 = ExtraTreesClassifier()"
      ],
      "metadata": {
        "id": "a-NnmdOJHJ7Z"
      },
      "execution_count": 55,
      "outputs": []
    },
    {
      "cell_type": "code",
      "source": [
        "model_1.fit(X_train, y_train)\n",
        "model_2.fit(X_train, y_train)\n",
        "model_3.fit(X_train, y_train)"
      ],
      "metadata": {
        "colab": {
          "base_uri": "https://localhost:8080/",
          "height": 75
        },
        "id": "_fO8cxKQH9On",
        "outputId": "e3dd870c-99cf-463b-91fa-0e610bae8534"
      },
      "execution_count": 56,
      "outputs": [
        {
          "output_type": "execute_result",
          "data": {
            "text/plain": [
              "ExtraTreesClassifier()"
            ],
            "text/html": [
              "<style>#sk-container-id-1 {color: black;background-color: white;}#sk-container-id-1 pre{padding: 0;}#sk-container-id-1 div.sk-toggleable {background-color: white;}#sk-container-id-1 label.sk-toggleable__label {cursor: pointer;display: block;width: 100%;margin-bottom: 0;padding: 0.3em;box-sizing: border-box;text-align: center;}#sk-container-id-1 label.sk-toggleable__label-arrow:before {content: \"▸\";float: left;margin-right: 0.25em;color: #696969;}#sk-container-id-1 label.sk-toggleable__label-arrow:hover:before {color: black;}#sk-container-id-1 div.sk-estimator:hover label.sk-toggleable__label-arrow:before {color: black;}#sk-container-id-1 div.sk-toggleable__content {max-height: 0;max-width: 0;overflow: hidden;text-align: left;background-color: #f0f8ff;}#sk-container-id-1 div.sk-toggleable__content pre {margin: 0.2em;color: black;border-radius: 0.25em;background-color: #f0f8ff;}#sk-container-id-1 input.sk-toggleable__control:checked~div.sk-toggleable__content {max-height: 200px;max-width: 100%;overflow: auto;}#sk-container-id-1 input.sk-toggleable__control:checked~label.sk-toggleable__label-arrow:before {content: \"▾\";}#sk-container-id-1 div.sk-estimator input.sk-toggleable__control:checked~label.sk-toggleable__label {background-color: #d4ebff;}#sk-container-id-1 div.sk-label input.sk-toggleable__control:checked~label.sk-toggleable__label {background-color: #d4ebff;}#sk-container-id-1 input.sk-hidden--visually {border: 0;clip: rect(1px 1px 1px 1px);clip: rect(1px, 1px, 1px, 1px);height: 1px;margin: -1px;overflow: hidden;padding: 0;position: absolute;width: 1px;}#sk-container-id-1 div.sk-estimator {font-family: monospace;background-color: #f0f8ff;border: 1px dotted black;border-radius: 0.25em;box-sizing: border-box;margin-bottom: 0.5em;}#sk-container-id-1 div.sk-estimator:hover {background-color: #d4ebff;}#sk-container-id-1 div.sk-parallel-item::after {content: \"\";width: 100%;border-bottom: 1px solid gray;flex-grow: 1;}#sk-container-id-1 div.sk-label:hover label.sk-toggleable__label {background-color: #d4ebff;}#sk-container-id-1 div.sk-serial::before {content: \"\";position: absolute;border-left: 1px solid gray;box-sizing: border-box;top: 0;bottom: 0;left: 50%;z-index: 0;}#sk-container-id-1 div.sk-serial {display: flex;flex-direction: column;align-items: center;background-color: white;padding-right: 0.2em;padding-left: 0.2em;position: relative;}#sk-container-id-1 div.sk-item {position: relative;z-index: 1;}#sk-container-id-1 div.sk-parallel {display: flex;align-items: stretch;justify-content: center;background-color: white;position: relative;}#sk-container-id-1 div.sk-item::before, #sk-container-id-1 div.sk-parallel-item::before {content: \"\";position: absolute;border-left: 1px solid gray;box-sizing: border-box;top: 0;bottom: 0;left: 50%;z-index: -1;}#sk-container-id-1 div.sk-parallel-item {display: flex;flex-direction: column;z-index: 1;position: relative;background-color: white;}#sk-container-id-1 div.sk-parallel-item:first-child::after {align-self: flex-end;width: 50%;}#sk-container-id-1 div.sk-parallel-item:last-child::after {align-self: flex-start;width: 50%;}#sk-container-id-1 div.sk-parallel-item:only-child::after {width: 0;}#sk-container-id-1 div.sk-dashed-wrapped {border: 1px dashed gray;margin: 0 0.4em 0.5em 0.4em;box-sizing: border-box;padding-bottom: 0.4em;background-color: white;}#sk-container-id-1 div.sk-label label {font-family: monospace;font-weight: bold;display: inline-block;line-height: 1.2em;}#sk-container-id-1 div.sk-label-container {text-align: center;}#sk-container-id-1 div.sk-container {/* jupyter's `normalize.less` sets `[hidden] { display: none; }` but bootstrap.min.css set `[hidden] { display: none !important; }` so we also need the `!important` here to be able to override the default hidden behavior on the sphinx rendered scikit-learn.org. See: https://github.com/scikit-learn/scikit-learn/issues/21755 */display: inline-block !important;position: relative;}#sk-container-id-1 div.sk-text-repr-fallback {display: none;}</style><div id=\"sk-container-id-1\" class=\"sk-top-container\"><div class=\"sk-text-repr-fallback\"><pre>ExtraTreesClassifier()</pre><b>In a Jupyter environment, please rerun this cell to show the HTML representation or trust the notebook. <br />On GitHub, the HTML representation is unable to render, please try loading this page with nbviewer.org.</b></div><div class=\"sk-container\" hidden><div class=\"sk-item\"><div class=\"sk-estimator sk-toggleable\"><input class=\"sk-toggleable__control sk-hidden--visually\" id=\"sk-estimator-id-1\" type=\"checkbox\" checked><label for=\"sk-estimator-id-1\" class=\"sk-toggleable__label sk-toggleable__label-arrow\">ExtraTreesClassifier</label><div class=\"sk-toggleable__content\"><pre>ExtraTreesClassifier()</pre></div></div></div></div></div>"
            ]
          },
          "metadata": {},
          "execution_count": 56
        }
      ]
    },
    {
      "cell_type": "code",
      "source": [
        "pred_1 = model_1.predict(X_test)\n",
        "pred_2 = model_2.predict(X_test)\n",
        "pred_3 = model_3.predict(X_test)"
      ],
      "metadata": {
        "id": "qWc4O_Y3IGhQ"
      },
      "execution_count": 57,
      "outputs": []
    },
    {
      "cell_type": "code",
      "source": [
        "MSE_1= mean_squared_error(y_test, pred_1)\n",
        "MSE_2= mean_squared_error(y_test, pred_2)\n",
        "MSE_3= mean_squared_error(y_test, pred_3)\n",
        "\n",
        "accuracy_1=(1-mean_squared_error(y_test, pred_1))*100\n",
        "accuracy_2=(1-mean_squared_error(y_test, pred_2))*100\n",
        "accuracy_3=(1-mean_squared_error(y_test, pred_3))*100\n",
        "print(f'For AdaBoost: MSE= {MSE_1}\\nAccuracy(%)= {accuracy_1}\\nFor XGB: MSE= {MSE_2}\\nAccuracy(%)= {accuracy_2}\\nFor ExtraTree: MSE= {MSE_3}\\nAccuracy(%)= {accuracy_3}')"
      ],
      "metadata": {
        "colab": {
          "base_uri": "https://localhost:8080/"
        },
        "id": "vZwqtlANISnX",
        "outputId": "1bb4d88c-083f-4a76-93cc-96cf4500399b"
      },
      "execution_count": 58,
      "outputs": [
        {
          "output_type": "stream",
          "name": "stdout",
          "text": [
            "For AdaBoost: MSE= 0.0005\n",
            "Accuracy(%)= 99.95\n",
            "For XGB: MSE= 0.0005\n",
            "Accuracy(%)= 99.95\n",
            "For ExtraTree: MSE= 0.0003333333333333333\n",
            "Accuracy(%)= 99.96666666666667\n"
          ]
        }
      ]
    },
    {
      "cell_type": "code",
      "source": [
        "pred_1 = model_1.predict(X_train)\n",
        "pred_2 = model_2.predict(X_train)\n",
        "pred_3 = model_3.predict(X_train)\n",
        "\n",
        "MSE_1= mean_squared_error(y_train, pred_1)\n",
        "MSE_2= mean_squared_error(y_train, pred_2)\n",
        "MSE_3= mean_squared_error(y_train, pred_3)\n",
        "\n",
        "accuracy_1=(1-mean_squared_error(y_train, pred_1))*100\n",
        "accuracy_2=(1-mean_squared_error(y_train, pred_2))*100\n",
        "accuracy_3=(1-mean_squared_error(y_train, pred_3))*100\n",
        "print(f'For AdaBoost: MSE= {MSE_1}\\nAccuracy(%)= {accuracy_1}\\nFor XGB: MSE= {MSE_2}\\nAccuracy(%)= {accuracy_2}\\nFor ExtraTree: MSE= {MSE_3}\\nAccuracy(%)= {accuracy_3}')"
      ],
      "metadata": {
        "colab": {
          "base_uri": "https://localhost:8080/"
        },
        "id": "GyrxeB-WJkpr",
        "outputId": "02f3bfa7-0d1b-446d-ea58-67f9c546903a"
      },
      "execution_count": 60,
      "outputs": [
        {
          "output_type": "stream",
          "name": "stdout",
          "text": [
            "For AdaBoost: MSE= 0.0\n",
            "Accuracy(%)= 100.0\n",
            "For XGB: MSE= 0.0\n",
            "Accuracy(%)= 100.0\n",
            "For ExtraTree: MSE= 0.0\n",
            "Accuracy(%)= 100.0\n"
          ]
        }
      ]
    },
    {
      "cell_type": "code",
      "source": [
        "clean_smote = AutoClean(smoted.sample(n=50000), mode='manual', outliers='auto', verbose=True)"
      ],
      "metadata": {
        "colab": {
          "base_uri": "https://localhost:8080/"
        },
        "id": "E9ezCwqk9XUw",
        "outputId": "87aa93f8-cdc8-4f99-db45-197f1ae8167c"
      },
      "execution_count": 93,
      "outputs": [
        {
          "output_type": "stream",
          "name": "stderr",
          "text": [
            "14-03-2023 23:45:14.72 - INFO - Started validation of input parameters...\n",
            "14-03-2023 23:45:14.72 - INFO - Completed validation of input parameters\n",
            "14-03-2023 23:45:14.73 - INFO - Skipped handling of duplicates\n",
            "14-03-2023 23:45:14.74 - INFO - Skipped handling of missing values\n",
            "14-03-2023 23:45:14.74 - INFO - Started handling of outliers... Method: \"AUTO\"\n",
            "14-03-2023 23:45:25.75 - DEBUG - Outlier imputation of 4069 value(s) succeeded for feature \"V3\"\n",
            "14-03-2023 23:45:27.86 - DEBUG - Outlier imputation of 887 value(s) succeeded for feature \"V4\"\n",
            "14-03-2023 23:45:42.47 - DEBUG - Outlier imputation of 6024 value(s) succeeded for feature \"V7\"\n",
            "14-03-2023 23:45:52.81 - DEBUG - Outlier imputation of 4097 value(s) succeeded for feature \"V10\"\n",
            "14-03-2023 23:45:55.47 - DEBUG - Outlier imputation of 1122 value(s) succeeded for feature \"V11\"\n",
            "14-03-2023 23:46:01.87 - DEBUG - Outlier imputation of 2316 value(s) succeeded for feature \"V12\"\n",
            "14-03-2023 23:46:02.81 - DEBUG - Outlier imputation of 384 value(s) succeeded for feature \"V14\"\n",
            "14-03-2023 23:46:10.13 - DEBUG - Outlier imputation of 3225 value(s) succeeded for feature \"V16\"\n",
            "14-03-2023 23:46:21.03 - DEBUG - Outlier imputation of 4310 value(s) succeeded for feature \"V17\"\n",
            "14-03-2023 23:46:21.07 - INFO - Completed handling of outliers in 66.329659 seconds\n",
            "14-03-2023 23:46:21.08 - INFO - Skipped datetime feature conversion\n",
            "14-03-2023 23:46:21.08 - INFO - Skipped encoding of categorical features\n",
            "14-03-2023 23:46:21.08 - INFO - Started feature type conversion...\n",
            "14-03-2023 23:46:21.15 - DEBUG - Conversion to type FLOAT succeeded for feature \"V3\"\n",
            "14-03-2023 23:46:21.21 - DEBUG - Conversion to type FLOAT succeeded for feature \"V4\"\n",
            "14-03-2023 23:46:21.29 - DEBUG - Conversion to type FLOAT succeeded for feature \"V7\"\n",
            "14-03-2023 23:46:21.35 - DEBUG - Conversion to type FLOAT succeeded for feature \"V10\"\n",
            "14-03-2023 23:46:21.42 - DEBUG - Conversion to type FLOAT succeeded for feature \"V11\"\n",
            "14-03-2023 23:46:21.49 - DEBUG - Conversion to type FLOAT succeeded for feature \"V12\"\n",
            "14-03-2023 23:46:21.55 - DEBUG - Conversion to type FLOAT succeeded for feature \"V14\"\n",
            "14-03-2023 23:46:21.61 - DEBUG - Conversion to type FLOAT succeeded for feature \"V16\"\n",
            "14-03-2023 23:46:21.67 - DEBUG - Conversion to type FLOAT succeeded for feature \"V17\"\n",
            "14-03-2023 23:46:21.69 - DEBUG - Conversion to type INT succeeded for feature \"Class\"\n",
            "14-03-2023 23:46:21.69 - INFO - Completed feature type conversion for 10 feature(s) in 0.601192 seconds\n",
            "14-03-2023 23:46:21.69 - INFO - AutoClean process completed in 66.982489 seconds\n"
          ]
        },
        {
          "output_type": "stream",
          "name": "stdout",
          "text": [
            "Logfile saved to: /content/autoclean.log\n"
          ]
        }
      ]
    },
    {
      "cell_type": "markdown",
      "source": [
        "### the df 'clean_smote' should be clean of outliers and duplicates as well as balanced.  "
      ],
      "metadata": {
        "id": "--vjFp9fEB1r"
      }
    },
    {
      "cell_type": "code",
      "source": [
        "clean_smote=pd.DataFrame(clean_smote.output)"
      ],
      "metadata": {
        "id": "sS0xY5sBS12F"
      },
      "execution_count": 94,
      "outputs": []
    },
    {
      "cell_type": "code",
      "source": [
        "from pathlib import Path  \n",
        "filepath = Path('/content/drive/MyDrive/Data Science/Data Science Data/Portfolio_Project/clean_smote_50000.csv')  \n",
        "filepath.parent.mkdir(parents=True, exist_ok=True)  \n",
        "clean_smote.to_csv(filepath)  "
      ],
      "metadata": {
        "id": "3lAASOreU4Gc"
      },
      "execution_count": 97,
      "outputs": []
    },
    {
      "cell_type": "code",
      "source": [
        "clean_smote.head()"
      ],
      "metadata": {
        "colab": {
          "base_uri": "https://localhost:8080/",
          "height": 206
        },
        "id": "OSGgA7FRUYYA",
        "outputId": "a3f6b550-0610-4b74-c029-d7d0474f852d"
      },
      "execution_count": 96,
      "outputs": [
        {
          "output_type": "execute_result",
          "data": {
            "text/plain": [
              "     V3    V4    V7   V10   V11   V12   V14   V16   V17  Class\n",
              "0 -5.64  1.96 -4.89 -5.17  2.14 -4.18 -3.10 -4.84 -8.06      1\n",
              "1 -1.12  0.42  0.08  0.12 -1.06 -0.39  0.58 -0.02 -0.22      0\n",
              "2  0.41 -2.50 -0.05 -1.53 -0.42  0.18  0.29  1.05 -1.13      0\n",
              "3 -4.13  6.31  1.66 -1.80  1.88 -3.31 -2.56 -2.74 -4.29      1\n",
              "4  0.84  0.86  0.32 -0.02 -1.85 -1.46  0.68 -0.86  0.51      0"
            ],
            "text/html": [
              "\n",
              "  <div id=\"df-99b19a3f-4e86-4b9c-8c3a-5d865dc4431f\">\n",
              "    <div class=\"colab-df-container\">\n",
              "      <div>\n",
              "<style scoped>\n",
              "    .dataframe tbody tr th:only-of-type {\n",
              "        vertical-align: middle;\n",
              "    }\n",
              "\n",
              "    .dataframe tbody tr th {\n",
              "        vertical-align: top;\n",
              "    }\n",
              "\n",
              "    .dataframe thead th {\n",
              "        text-align: right;\n",
              "    }\n",
              "</style>\n",
              "<table border=\"1\" class=\"dataframe\">\n",
              "  <thead>\n",
              "    <tr style=\"text-align: right;\">\n",
              "      <th></th>\n",
              "      <th>V3</th>\n",
              "      <th>V4</th>\n",
              "      <th>V7</th>\n",
              "      <th>V10</th>\n",
              "      <th>V11</th>\n",
              "      <th>V12</th>\n",
              "      <th>V14</th>\n",
              "      <th>V16</th>\n",
              "      <th>V17</th>\n",
              "      <th>Class</th>\n",
              "    </tr>\n",
              "  </thead>\n",
              "  <tbody>\n",
              "    <tr>\n",
              "      <th>0</th>\n",
              "      <td>-5.64</td>\n",
              "      <td>1.96</td>\n",
              "      <td>-4.89</td>\n",
              "      <td>-5.17</td>\n",
              "      <td>2.14</td>\n",
              "      <td>-4.18</td>\n",
              "      <td>-3.10</td>\n",
              "      <td>-4.84</td>\n",
              "      <td>-8.06</td>\n",
              "      <td>1</td>\n",
              "    </tr>\n",
              "    <tr>\n",
              "      <th>1</th>\n",
              "      <td>-1.12</td>\n",
              "      <td>0.42</td>\n",
              "      <td>0.08</td>\n",
              "      <td>0.12</td>\n",
              "      <td>-1.06</td>\n",
              "      <td>-0.39</td>\n",
              "      <td>0.58</td>\n",
              "      <td>-0.02</td>\n",
              "      <td>-0.22</td>\n",
              "      <td>0</td>\n",
              "    </tr>\n",
              "    <tr>\n",
              "      <th>2</th>\n",
              "      <td>0.41</td>\n",
              "      <td>-2.50</td>\n",
              "      <td>-0.05</td>\n",
              "      <td>-1.53</td>\n",
              "      <td>-0.42</td>\n",
              "      <td>0.18</td>\n",
              "      <td>0.29</td>\n",
              "      <td>1.05</td>\n",
              "      <td>-1.13</td>\n",
              "      <td>0</td>\n",
              "    </tr>\n",
              "    <tr>\n",
              "      <th>3</th>\n",
              "      <td>-4.13</td>\n",
              "      <td>6.31</td>\n",
              "      <td>1.66</td>\n",
              "      <td>-1.80</td>\n",
              "      <td>1.88</td>\n",
              "      <td>-3.31</td>\n",
              "      <td>-2.56</td>\n",
              "      <td>-2.74</td>\n",
              "      <td>-4.29</td>\n",
              "      <td>1</td>\n",
              "    </tr>\n",
              "    <tr>\n",
              "      <th>4</th>\n",
              "      <td>0.84</td>\n",
              "      <td>0.86</td>\n",
              "      <td>0.32</td>\n",
              "      <td>-0.02</td>\n",
              "      <td>-1.85</td>\n",
              "      <td>-1.46</td>\n",
              "      <td>0.68</td>\n",
              "      <td>-0.86</td>\n",
              "      <td>0.51</td>\n",
              "      <td>0</td>\n",
              "    </tr>\n",
              "  </tbody>\n",
              "</table>\n",
              "</div>\n",
              "      <button class=\"colab-df-convert\" onclick=\"convertToInteractive('df-99b19a3f-4e86-4b9c-8c3a-5d865dc4431f')\"\n",
              "              title=\"Convert this dataframe to an interactive table.\"\n",
              "              style=\"display:none;\">\n",
              "        \n",
              "  <svg xmlns=\"http://www.w3.org/2000/svg\" height=\"24px\"viewBox=\"0 0 24 24\"\n",
              "       width=\"24px\">\n",
              "    <path d=\"M0 0h24v24H0V0z\" fill=\"none\"/>\n",
              "    <path d=\"M18.56 5.44l.94 2.06.94-2.06 2.06-.94-2.06-.94-.94-2.06-.94 2.06-2.06.94zm-11 1L8.5 8.5l.94-2.06 2.06-.94-2.06-.94L8.5 2.5l-.94 2.06-2.06.94zm10 10l.94 2.06.94-2.06 2.06-.94-2.06-.94-.94-2.06-.94 2.06-2.06.94z\"/><path d=\"M17.41 7.96l-1.37-1.37c-.4-.4-.92-.59-1.43-.59-.52 0-1.04.2-1.43.59L10.3 9.45l-7.72 7.72c-.78.78-.78 2.05 0 2.83L4 21.41c.39.39.9.59 1.41.59.51 0 1.02-.2 1.41-.59l7.78-7.78 2.81-2.81c.8-.78.8-2.07 0-2.86zM5.41 20L4 18.59l7.72-7.72 1.47 1.35L5.41 20z\"/>\n",
              "  </svg>\n",
              "      </button>\n",
              "      \n",
              "  <style>\n",
              "    .colab-df-container {\n",
              "      display:flex;\n",
              "      flex-wrap:wrap;\n",
              "      gap: 12px;\n",
              "    }\n",
              "\n",
              "    .colab-df-convert {\n",
              "      background-color: #E8F0FE;\n",
              "      border: none;\n",
              "      border-radius: 50%;\n",
              "      cursor: pointer;\n",
              "      display: none;\n",
              "      fill: #1967D2;\n",
              "      height: 32px;\n",
              "      padding: 0 0 0 0;\n",
              "      width: 32px;\n",
              "    }\n",
              "\n",
              "    .colab-df-convert:hover {\n",
              "      background-color: #E2EBFA;\n",
              "      box-shadow: 0px 1px 2px rgba(60, 64, 67, 0.3), 0px 1px 3px 1px rgba(60, 64, 67, 0.15);\n",
              "      fill: #174EA6;\n",
              "    }\n",
              "\n",
              "    [theme=dark] .colab-df-convert {\n",
              "      background-color: #3B4455;\n",
              "      fill: #D2E3FC;\n",
              "    }\n",
              "\n",
              "    [theme=dark] .colab-df-convert:hover {\n",
              "      background-color: #434B5C;\n",
              "      box-shadow: 0px 1px 3px 1px rgba(0, 0, 0, 0.15);\n",
              "      filter: drop-shadow(0px 1px 2px rgba(0, 0, 0, 0.3));\n",
              "      fill: #FFFFFF;\n",
              "    }\n",
              "  </style>\n",
              "\n",
              "      <script>\n",
              "        const buttonEl =\n",
              "          document.querySelector('#df-99b19a3f-4e86-4b9c-8c3a-5d865dc4431f button.colab-df-convert');\n",
              "        buttonEl.style.display =\n",
              "          google.colab.kernel.accessAllowed ? 'block' : 'none';\n",
              "\n",
              "        async function convertToInteractive(key) {\n",
              "          const element = document.querySelector('#df-99b19a3f-4e86-4b9c-8c3a-5d865dc4431f');\n",
              "          const dataTable =\n",
              "            await google.colab.kernel.invokeFunction('convertToInteractive',\n",
              "                                                     [key], {});\n",
              "          if (!dataTable) return;\n",
              "\n",
              "          const docLinkHtml = 'Like what you see? Visit the ' +\n",
              "            '<a target=\"_blank\" href=https://colab.research.google.com/notebooks/data_table.ipynb>data table notebook</a>'\n",
              "            + ' to learn more about interactive tables.';\n",
              "          element.innerHTML = '';\n",
              "          dataTable['output_type'] = 'display_data';\n",
              "          await google.colab.output.renderOutput(dataTable, element);\n",
              "          const docLink = document.createElement('div');\n",
              "          docLink.innerHTML = docLinkHtml;\n",
              "          element.appendChild(docLink);\n",
              "        }\n",
              "      </script>\n",
              "    </div>\n",
              "  </div>\n",
              "  "
            ]
          },
          "metadata": {},
          "execution_count": 96
        }
      ]
    },
    {
      "cell_type": "code",
      "source": [
        "sns.countplot(clean_smote.Class)"
      ],
      "metadata": {
        "colab": {
          "base_uri": "https://localhost:8080/",
          "height": 395
        },
        "id": "skr2DeH9Xlm5",
        "outputId": "62adfd99-da03-4d1d-9d47-8780e8f7d4c3"
      },
      "execution_count": 95,
      "outputs": [
        {
          "output_type": "execute_result",
          "data": {
            "text/plain": [
              "<AxesSubplot:xlabel='Class', ylabel='count'>"
            ]
          },
          "metadata": {},
          "execution_count": 95
        },
        {
          "output_type": "display_data",
          "data": {
            "text/plain": [
              "<Figure size 600x400 with 1 Axes>"
            ],
            "image/png": "[encoded data removed]"
          },
          "metadata": {}
        }
      ]
    },
    {
      "cell_type": "code",
      "source": [
        "clean_smote50000=pd.read_csv('/content/drive/MyDrive/Data Science/Data Science Data/Portfolio_Project/clean_smote_50000.csv')"
      ],
      "metadata": {
        "id": "ntO_QgIPiFAK"
      },
      "execution_count": 3,
      "outputs": []
    },
    {
      "cell_type": "code",
      "source": [
        "df_samp4= clean_smote50000.sample(25000)\n",
        "# X/y Split \n",
        "X = df_samp4.loc[:, df_samp4.columns != 'Class']\n",
        "y = df_samp4['Class']\n",
        "# Test Train Split\n",
        "X_train, X_test, y_train, y_test = train_test_split(X, y, test_size = 0.3, random_state = 0)\n",
        "print(f'Test Shape (X, y): {X_test.shape}, {y_test.shape}\\nTrain shape (X, y): {X_train.shape}, {y_train.shape}')\n",
        "# fit all models\n",
        "clf = LazyClassifier(predictions=True)\n",
        "models, predictions = clf.fit(X_train, X_test, y_train, y_test)\n",
        "models"
      ],
      "metadata": {
        "colab": {
          "base_uri": "https://localhost:8080/",
          "height": 980
        },
        "id": "IGrwjdl_9kxs",
        "outputId": "3f4e3ffb-3749-4f60-941d-804bd8d8ceac"
      },
      "execution_count": 5,
      "outputs": [
        {
          "output_type": "stream",
          "name": "stdout",
          "text": [
            "Test Shape (X, y): (7500, 10), (7500,)\n",
            "Train shape (X, y): (17500, 10), (17500,)\n"
          ]
        },
        {
          "output_type": "stream",
          "name": "stderr",
          "text": [
            "100%|██████████| 29/29 [01:25<00:00,  2.94s/it]\n"
          ]
        },
        {
          "output_type": "execute_result",
          "data": {
            "text/plain": [
              "                               Accuracy  Balanced Accuracy  ROC AUC  F1 Score  \\\n",
              "Model                                                                           \n",
              "ExtraTreesClassifier               0.99               0.99     0.99      0.99   \n",
              "XGBClassifier                      0.99               0.99     0.99      0.99   \n",
              "LGBMClassifier                     0.99               0.99     0.99      0.99   \n",
              "RandomForestClassifier             0.99               0.99     0.99      0.99   \n",
              "BaggingClassifier                  0.98               0.98     0.98      0.98   \n",
              "LabelPropagation                   0.98               0.98     0.98      0.98   \n",
              "LabelSpreading                     0.97               0.97     0.97      0.97   \n",
              "DecisionTreeClassifier             0.97               0.97     0.97      0.97   \n",
              "KNeighborsClassifier               0.97               0.97     0.97      0.97   \n",
              "ExtraTreeClassifier                0.97               0.97     0.97      0.97   \n",
              "AdaBoostClassifier                 0.95               0.95     0.95      0.95   \n",
              "SVC                                0.94               0.94     0.94      0.94   \n",
              "LogisticRegression                 0.94               0.94     0.94      0.94   \n",
              "SGDClassifier                      0.94               0.94     0.94      0.94   \n",
              "CalibratedClassifierCV             0.94               0.94     0.94      0.94   \n",
              "LinearSVC                          0.93               0.94     0.94      0.93   \n",
              "QuadraticDiscriminantAnalysis      0.93               0.93     0.93      0.93   \n",
              "PassiveAggressiveClassifier        0.93               0.93     0.93      0.93   \n",
              "GaussianNB                         0.91               0.91     0.91      0.91   \n",
              "BernoulliNB                        0.91               0.91     0.91      0.91   \n",
              "NuSVC                              0.91               0.91     0.91      0.91   \n",
              "LinearDiscriminantAnalysis         0.90               0.90     0.90      0.90   \n",
              "RidgeClassifier                    0.90               0.90     0.90      0.90   \n",
              "RidgeClassifierCV                  0.90               0.90     0.90      0.90   \n",
              "Perceptron                         0.90               0.90     0.90      0.90   \n",
              "NearestCentroid                    0.89               0.89     0.89      0.89   \n",
              "DummyClassifier                    0.50               0.50     0.50      0.33   \n",
              "\n",
              "                               Time Taken  \n",
              "Model                                      \n",
              "ExtraTreesClassifier                 1.16  \n",
              "XGBClassifier                        3.37  \n",
              "LGBMClassifier                       0.77  \n",
              "RandomForestClassifier               5.72  \n",
              "BaggingClassifier                    1.95  \n",
              "LabelPropagation                    15.44  \n",
              "LabelSpreading                      24.28  \n",
              "DecisionTreeClassifier               0.30  \n",
              "KNeighborsClassifier                 0.62  \n",
              "ExtraTreeClassifier                  0.04  \n",
              "AdaBoostClassifier                   4.55  \n",
              "SVC                                  3.39  \n",
              "LogisticRegression                   0.11  \n",
              "SGDClassifier                        0.11  \n",
              "CalibratedClassifierCV               1.40  \n",
              "LinearSVC                            0.39  \n",
              "QuadraticDiscriminantAnalysis        0.17  \n",
              "PassiveAggressiveClassifier          0.08  \n",
              "GaussianNB                           0.05  \n",
              "BernoulliNB                          0.06  \n",
              "NuSVC                               20.79  \n",
              "LinearDiscriminantAnalysis           0.16  \n",
              "RidgeClassifier                      0.05  \n",
              "RidgeClassifierCV                    0.09  \n",
              "Perceptron                           0.12  \n",
              "NearestCentroid                      0.05  \n",
              "DummyClassifier                      0.03  "
            ],
            "text/html": [
              "\n",
              "  <div id=\"df-aca94c32-eab4-451c-b78f-f694d79939c3\">\n",
              "    <div class=\"colab-df-container\">\n",
              "      <div>\n",
              "<style scoped>\n",
              "    .dataframe tbody tr th:only-of-type {\n",
              "        vertical-align: middle;\n",
              "    }\n",
              "\n",
              "    .dataframe tbody tr th {\n",
              "        vertical-align: top;\n",
              "    }\n",
              "\n",
              "    .dataframe thead th {\n",
              "        text-align: right;\n",
              "    }\n",
              "</style>\n",
              "<table border=\"1\" class=\"dataframe\">\n",
              "  <thead>\n",
              "    <tr style=\"text-align: right;\">\n",
              "      <th></th>\n",
              "      <th>Accuracy</th>\n",
              "      <th>Balanced Accuracy</th>\n",
              "      <th>ROC AUC</th>\n",
              "      <th>F1 Score</th>\n",
              "      <th>Time Taken</th>\n",
              "    </tr>\n",
              "    <tr>\n",
              "      <th>Model</th>\n",
              "      <th></th>\n",
              "      <th></th>\n",
              "      <th></th>\n",
              "      <th></th>\n",
              "      <th></th>\n",
              "    </tr>\n",
              "  </thead>\n",
              "  <tbody>\n",
              "    <tr>\n",
              "      <th>ExtraTreesClassifier</th>\n",
              "      <td>0.99</td>\n",
              "      <td>0.99</td>\n",
              "      <td>0.99</td>\n",
              "      <td>0.99</td>\n",
              "      <td>1.16</td>\n",
              "    </tr>\n",
              "    <tr>\n",
              "      <th>XGBClassifier</th>\n",
              "      <td>0.99</td>\n",
              "      <td>0.99</td>\n",
              "      <td>0.99</td>\n",
              "      <td>0.99</td>\n",
              "      <td>3.37</td>\n",
              "    </tr>\n",
              "    <tr>\n",
              "      <th>LGBMClassifier</th>\n",
              "      <td>0.99</td>\n",
              "      <td>0.99</td>\n",
              "      <td>0.99</td>\n",
              "      <td>0.99</td>\n",
              "      <td>0.77</td>\n",
              "    </tr>\n",
              "    <tr>\n",
              "      <th>RandomForestClassifier</th>\n",
              "      <td>0.99</td>\n",
              "      <td>0.99</td>\n",
              "      <td>0.99</td>\n",
              "      <td>0.99</td>\n",
              "      <td>5.72</td>\n",
              "    </tr>\n",
              "    <tr>\n",
              "      <th>BaggingClassifier</th>\n",
              "      <td>0.98</td>\n",
              "      <td>0.98</td>\n",
              "      <td>0.98</td>\n",
              "      <td>0.98</td>\n",
              "      <td>1.95</td>\n",
              "    </tr>\n",
              "    <tr>\n",
              "      <th>LabelPropagation</th>\n",
              "      <td>0.98</td>\n",
              "      <td>0.98</td>\n",
              "      <td>0.98</td>\n",
              "      <td>0.98</td>\n",
              "      <td>15.44</td>\n",
              "    </tr>\n",
              "    <tr>\n",
              "      <th>LabelSpreading</th>\n",
              "      <td>0.97</td>\n",
              "      <td>0.97</td>\n",
              "      <td>0.97</td>\n",
              "      <td>0.97</td>\n",
              "      <td>24.28</td>\n",
              "    </tr>\n",
              "    <tr>\n",
              "      <th>DecisionTreeClassifier</th>\n",
              "      <td>0.97</td>\n",
              "      <td>0.97</td>\n",
              "      <td>0.97</td>\n",
              "      <td>0.97</td>\n",
              "      <td>0.30</td>\n",
              "    </tr>\n",
              "    <tr>\n",
              "      <th>KNeighborsClassifier</th>\n",
              "      <td>0.97</td>\n",
              "      <td>0.97</td>\n",
              "      <td>0.97</td>\n",
              "      <td>0.97</td>\n",
              "      <td>0.62</td>\n",
              "    </tr>\n",
              "    <tr>\n",
              "      <th>ExtraTreeClassifier</th>\n",
              "      <td>0.97</td>\n",
              "      <td>0.97</td>\n",
              "      <td>0.97</td>\n",
              "      <td>0.97</td>\n",
              "      <td>0.04</td>\n",
              "    </tr>\n",
              "    <tr>\n",
              "      <th>AdaBoostClassifier</th>\n",
              "      <td>0.95</td>\n",
              "      <td>0.95</td>\n",
              "      <td>0.95</td>\n",
              "      <td>0.95</td>\n",
              "      <td>4.55</td>\n",
              "    </tr>\n",
              "    <tr>\n",
              "      <th>SVC</th>\n",
              "      <td>0.94</td>\n",
              "      <td>0.94</td>\n",
              "      <td>0.94</td>\n",
              "      <td>0.94</td>\n",
              "      <td>3.39</td>\n",
              "    </tr>\n",
              "    <tr>\n",
              "      <th>LogisticRegression</th>\n",
              "      <td>0.94</td>\n",
              "      <td>0.94</td>\n",
              "      <td>0.94</td>\n",
              "      <td>0.94</td>\n",
              "      <td>0.11</td>\n",
              "    </tr>\n",
              "    <tr>\n",
              "      <th>SGDClassifier</th>\n",
              "      <td>0.94</td>\n",
              "      <td>0.94</td>\n",
              "      <td>0.94</td>\n",
              "      <td>0.94</td>\n",
              "      <td>0.11</td>\n",
              "    </tr>\n",
              "    <tr>\n",
              "      <th>CalibratedClassifierCV</th>\n",
              "      <td>0.94</td>\n",
              "      <td>0.94</td>\n",
              "      <td>0.94</td>\n",
              "      <td>0.94</td>\n",
              "      <td>1.40</td>\n",
              "    </tr>\n",
              "    <tr>\n",
              "      <th>LinearSVC</th>\n",
              "      <td>0.93</td>\n",
              "      <td>0.94</td>\n",
              "      <td>0.94</td>\n",
              "      <td>0.93</td>\n",
              "      <td>0.39</td>\n",
              "    </tr>\n",
              "    <tr>\n",
              "      <th>QuadraticDiscriminantAnalysis</th>\n",
              "      <td>0.93</td>\n",
              "      <td>0.93</td>\n",
              "      <td>0.93</td>\n",
              "      <td>0.93</td>\n",
              "      <td>0.17</td>\n",
              "    </tr>\n",
              "    <tr>\n",
              "      <th>PassiveAggressiveClassifier</th>\n",
              "      <td>0.93</td>\n",
              "      <td>0.93</td>\n",
              "      <td>0.93</td>\n",
              "      <td>0.93</td>\n",
              "      <td>0.08</td>\n",
              "    </tr>\n",
              "    <tr>\n",
              "      <th>GaussianNB</th>\n",
              "      <td>0.91</td>\n",
              "      <td>0.91</td>\n",
              "      <td>0.91</td>\n",
              "      <td>0.91</td>\n",
              "      <td>0.05</td>\n",
              "    </tr>\n",
              "    <tr>\n",
              "      <th>BernoulliNB</th>\n",
              "      <td>0.91</td>\n",
              "      <td>0.91</td>\n",
              "      <td>0.91</td>\n",
              "      <td>0.91</td>\n",
              "      <td>0.06</td>\n",
              "    </tr>\n",
              "    <tr>\n",
              "      <th>NuSVC</th>\n",
              "      <td>0.91</td>\n",
              "      <td>0.91</td>\n",
              "      <td>0.91</td>\n",
              "      <td>0.91</td>\n",
              "      <td>20.79</td>\n",
              "    </tr>\n",
              "    <tr>\n",
              "      <th>LinearDiscriminantAnalysis</th>\n",
              "      <td>0.90</td>\n",
              "      <td>0.90</td>\n",
              "      <td>0.90</td>\n",
              "      <td>0.90</td>\n",
              "      <td>0.16</td>\n",
              "    </tr>\n",
              "    <tr>\n",
              "      <th>RidgeClassifier</th>\n",
              "      <td>0.90</td>\n",
              "      <td>0.90</td>\n",
              "      <td>0.90</td>\n",
              "      <td>0.90</td>\n",
              "      <td>0.05</td>\n",
              "    </tr>\n",
              "    <tr>\n",
              "      <th>RidgeClassifierCV</th>\n",
              "      <td>0.90</td>\n",
              "      <td>0.90</td>\n",
              "      <td>0.90</td>\n",
              "      <td>0.90</td>\n",
              "      <td>0.09</td>\n",
              "    </tr>\n",
              "    <tr>\n",
              "      <th>Perceptron</th>\n",
              "      <td>0.90</td>\n",
              "      <td>0.90</td>\n",
              "      <td>0.90</td>\n",
              "      <td>0.90</td>\n",
              "      <td>0.12</td>\n",
              "    </tr>\n",
              "    <tr>\n",
              "      <th>NearestCentroid</th>\n",
              "      <td>0.89</td>\n",
              "      <td>0.89</td>\n",
              "      <td>0.89</td>\n",
              "      <td>0.89</td>\n",
              "      <td>0.05</td>\n",
              "    </tr>\n",
              "    <tr>\n",
              "      <th>DummyClassifier</th>\n",
              "      <td>0.50</td>\n",
              "      <td>0.50</td>\n",
              "      <td>0.50</td>\n",
              "      <td>0.33</td>\n",
              "      <td>0.03</td>\n",
              "    </tr>\n",
              "  </tbody>\n",
              "</table>\n",
              "</div>\n",
              "      <button class=\"colab-df-convert\" onclick=\"convertToInteractive('df-aca94c32-eab4-451c-b78f-f694d79939c3')\"\n",
              "              title=\"Convert this dataframe to an interactive table.\"\n",
              "              style=\"display:none;\">\n",
              "        \n",
              "  <svg xmlns=\"http://www.w3.org/2000/svg\" height=\"24px\"viewBox=\"0 0 24 24\"\n",
              "       width=\"24px\">\n",
              "    <path d=\"M0 0h24v24H0V0z\" fill=\"none\"/>\n",
              "    <path d=\"M18.56 5.44l.94 2.06.94-2.06 2.06-.94-2.06-.94-.94-2.06-.94 2.06-2.06.94zm-11 1L8.5 8.5l.94-2.06 2.06-.94-2.06-.94L8.5 2.5l-.94 2.06-2.06.94zm10 10l.94 2.06.94-2.06 2.06-.94-2.06-.94-.94-2.06-.94 2.06-2.06.94z\"/><path d=\"M17.41 7.96l-1.37-1.37c-.4-.4-.92-.59-1.43-.59-.52 0-1.04.2-1.43.59L10.3 9.45l-7.72 7.72c-.78.78-.78 2.05 0 2.83L4 21.41c.39.39.9.59 1.41.59.51 0 1.02-.2 1.41-.59l7.78-7.78 2.81-2.81c.8-.78.8-2.07 0-2.86zM5.41 20L4 18.59l7.72-7.72 1.47 1.35L5.41 20z\"/>\n",
              "  </svg>\n",
              "      </button>\n",
              "      \n",
              "  <style>\n",
              "    .colab-df-container {\n",
              "      display:flex;\n",
              "      flex-wrap:wrap;\n",
              "      gap: 12px;\n",
              "    }\n",
              "\n",
              "    .colab-df-convert {\n",
              "      background-color: #E8F0FE;\n",
              "      border: none;\n",
              "      border-radius: 50%;\n",
              "      cursor: pointer;\n",
              "      display: none;\n",
              "      fill: #1967D2;\n",
              "      height: 32px;\n",
              "      padding: 0 0 0 0;\n",
              "      width: 32px;\n",
              "    }\n",
              "\n",
              "    .colab-df-convert:hover {\n",
              "      background-color: #E2EBFA;\n",
              "      box-shadow: 0px 1px 2px rgba(60, 64, 67, 0.3), 0px 1px 3px 1px rgba(60, 64, 67, 0.15);\n",
              "      fill: #174EA6;\n",
              "    }\n",
              "\n",
              "    [theme=dark] .colab-df-convert {\n",
              "      background-color: #3B4455;\n",
              "      fill: #D2E3FC;\n",
              "    }\n",
              "\n",
              "    [theme=dark] .colab-df-convert:hover {\n",
              "      background-color: #434B5C;\n",
              "      box-shadow: 0px 1px 3px 1px rgba(0, 0, 0, 0.15);\n",
              "      filter: drop-shadow(0px 1px 2px rgba(0, 0, 0, 0.3));\n",
              "      fill: #FFFFFF;\n",
              "    }\n",
              "  </style>\n",
              "\n",
              "      <script>\n",
              "        const buttonEl =\n",
              "          document.querySelector('#df-aca94c32-eab4-451c-b78f-f694d79939c3 button.colab-df-convert');\n",
              "        buttonEl.style.display =\n",
              "          google.colab.kernel.accessAllowed ? 'block' : 'none';\n",
              "\n",
              "        async function convertToInteractive(key) {\n",
              "          const element = document.querySelector('#df-aca94c32-eab4-451c-b78f-f694d79939c3');\n",
              "          const dataTable =\n",
              "            await google.colab.kernel.invokeFunction('convertToInteractive',\n",
              "                                                     [key], {});\n",
              "          if (!dataTable) return;\n",
              "\n",
              "          const docLinkHtml = 'Like what you see? Visit the ' +\n",
              "            '<a target=\"_blank\" href=https://colab.research.google.com/notebooks/data_table.ipynb>data table notebook</a>'\n",
              "            + ' to learn more about interactive tables.';\n",
              "          element.innerHTML = '';\n",
              "          dataTable['output_type'] = 'display_data';\n",
              "          await google.colab.output.renderOutput(dataTable, element);\n",
              "          const docLink = document.createElement('div');\n",
              "          docLink.innerHTML = docLinkHtml;\n",
              "          element.appendChild(docLink);\n",
              "        }\n",
              "      </script>\n",
              "    </div>\n",
              "  </div>\n",
              "  "
            ]
          },
          "metadata": {},
          "execution_count": 5
        }
      ]
    },
    {
      "cell_type": "markdown",
      "source": [
        "## Finally!!!\n",
        "\n",
        "This is what we've been aiming for!\n",
        "\n",
        "Due to the RAM limitation so free Colab I had to use a sample size of 25000.  But with the sample we achieved very nice accuracy results!\n",
        "\n",
        "With this version of the data we will move to bk 3 where I will start with this LazyClassifier report, then I will run Logreg, extratree, and XGB as well as the ANN model from bk 1. I will then create visuals to compare the findings and that should be that!\n",
        "\n",
        "🥲"
      ],
      "metadata": {
        "id": "3kXqznlBkBZj"
      }
    },
    {
      "cell_type": "code",
      "source": [
        "\n",
        "lr1 = LogisticRegression()\n",
        "lr1.fit(X_train, y_train)\n",
        "predictions = lr1.predict(X_test)\n",
        "  \n",
        "# print classification report\n",
        "print(classification_report(y_test, predictions))"
      ],
      "metadata": {
        "colab": {
          "base_uri": "https://localhost:8080/"
        },
        "id": "GRiUFXcVV6Jj",
        "outputId": "f34c2cb1-6b4f-45e1-eb68-89059de41c1c"
      },
      "execution_count": 6,
      "outputs": [
        {
          "output_type": "stream",
          "name": "stdout",
          "text": [
            "              precision    recall  f1-score   support\n",
            "\n",
            "           0       0.90      0.97      0.94      3722\n",
            "           1       0.97      0.90      0.93      3778\n",
            "\n",
            "    accuracy                           0.94      7500\n",
            "   macro avg       0.94      0.94      0.94      7500\n",
            "weighted avg       0.94      0.94      0.94      7500\n",
            "\n"
          ]
        }
      ]
    },
    {
      "cell_type": "code",
      "source": [
        "predictions = lr1.predict(X_train)\n",
        "  \n",
        "# print classification report\n",
        "print(classification_report(y_train, predictions))"
      ],
      "metadata": {
        "colab": {
          "base_uri": "https://localhost:8080/"
        },
        "id": "1K4_G8dWlfZ0",
        "outputId": "ed3d2b3d-bc1b-4229-d97f-853855d64141"
      },
      "execution_count": 7,
      "outputs": [
        {
          "output_type": "stream",
          "name": "stdout",
          "text": [
            "              precision    recall  f1-score   support\n",
            "\n",
            "           0       0.91      0.97      0.94      8789\n",
            "           1       0.97      0.90      0.93      8711\n",
            "\n",
            "    accuracy                           0.94     17500\n",
            "   macro avg       0.94      0.94      0.94     17500\n",
            "weighted avg       0.94      0.94      0.94     17500\n",
            "\n"
          ]
        }
      ]
    },
    {
      "cell_type": "code",
      "source": [
        "X_train.shape"
      ],
      "metadata": {
        "colab": {
          "base_uri": "https://localhost:8080/"
        },
        "id": "8HVYeT7Gl5B8",
        "outputId": "59b432d3-76cb-490f-d31a-1ffdb4a1b7b9"
      },
      "execution_count": 10,
      "outputs": [
        {
          "output_type": "execute_result",
          "data": {
            "text/plain": [
              "(17500, 10)"
            ]
          },
          "metadata": {},
          "execution_count": 10
        }
      ]
    },
    {
      "cell_type": "code",
      "source": [
        "def design_mlp():\n",
        "    model = Sequential()\n",
        "    model.add(Dense(150,input_shape =(None,17500, 10),activation=\"relu\"))\n",
        "    model.add(Dense(200,activation=\"tanh\"))\n",
        "    model.add(Dense(100,activation=\"tanh\"))\n",
        "    model.add(Dense(1000,activation=\"tanh\"))\n",
        "    model.add(Dense(1,activation=\"sigmoid\"))\n",
        "    model.compile(loss=\"binary_crossentropy\",optimizer=\"adam\",metrics=['accuracy'])\n",
        "    return model"
      ],
      "metadata": {
        "id": "ia9spmvPlmwO"
      },
      "execution_count": 19,
      "outputs": []
    },
    {
      "cell_type": "code",
      "source": [
        "model = design_mlp()\n",
        "model.fit(X_train, y_train,epochs=15, batch_size=15)"
      ],
      "metadata": {
        "colab": {
          "base_uri": "https://localhost:8080/"
        },
        "id": "a5USA1r1lx-Z",
        "outputId": "a9a256ca-e245-40be-b86f-aeb9782902b2"
      },
      "execution_count": 21,
      "outputs": [
        {
          "output_type": "stream",
          "name": "stdout",
          "text": [
            "Epoch 1/15\n"
          ]
        },
        {
          "output_type": "stream",
          "name": "stderr",
          "text": [
            "WARNING:tensorflow:Model was constructed with shape (None, None, 17500, 10) for input KerasTensor(type_spec=TensorSpec(shape=(None, None, 17500, 10), dtype=tf.float32, name='dense_18_input'), name='dense_18_input', description=\"created by layer 'dense_18_input'\"), but it was called on an input with incompatible shape (None, 10).\n",
            "WARNING:tensorflow:Model was constructed with shape (None, None, 17500, 10) for input KerasTensor(type_spec=TensorSpec(shape=(None, None, 17500, 10), dtype=tf.float32, name='dense_18_input'), name='dense_18_input', description=\"created by layer 'dense_18_input'\"), but it was called on an input with incompatible shape (None, 10).\n"
          ]
        },
        {
          "output_type": "stream",
          "name": "stdout",
          "text": [
            "1167/1167 [==============================] - 11s 6ms/step - loss: 0.7040 - accuracy: 0.4986\n",
            "Epoch 2/15\n",
            "1167/1167 [==============================] - 6s 5ms/step - loss: 0.6956 - accuracy: 0.4965\n",
            "Epoch 3/15\n",
            "1167/1167 [==============================] - 7s 6ms/step - loss: 0.6965 - accuracy: 0.5045\n",
            "Epoch 4/15\n",
            "1167/1167 [==============================] - 6s 5ms/step - loss: 0.6959 - accuracy: 0.4990\n",
            "Epoch 5/15\n",
            "1167/1167 [==============================] - 8s 7ms/step - loss: 0.6963 - accuracy: 0.5054\n",
            "Epoch 6/15\n",
            "1167/1167 [==============================] - 6s 5ms/step - loss: 0.6956 - accuracy: 0.5038\n",
            "Epoch 7/15\n",
            "1167/1167 [==============================] - 8s 7ms/step - loss: 0.6954 - accuracy: 0.4912\n",
            "Epoch 8/15\n",
            "1167/1167 [==============================] - 6s 5ms/step - loss: 0.6981 - accuracy: 0.5022\n",
            "Epoch 9/15\n",
            "1167/1167 [==============================] - 7s 6ms/step - loss: 0.6950 - accuracy: 0.5053\n",
            "Epoch 10/15\n",
            "1167/1167 [==============================] - 6s 5ms/step - loss: 0.6973 - accuracy: 0.4979\n",
            "Epoch 11/15\n",
            "1167/1167 [==============================] - 7s 6ms/step - loss: 0.6976 - accuracy: 0.4937\n",
            "Epoch 12/15\n",
            "1167/1167 [==============================] - 7s 6ms/step - loss: 0.6993 - accuracy: 0.4962\n",
            "Epoch 13/15\n",
            "1167/1167 [==============================] - 6s 5ms/step - loss: 0.6966 - accuracy: 0.4975\n",
            "Epoch 14/15\n",
            "1167/1167 [==============================] - 8s 7ms/step - loss: 0.7019 - accuracy: 0.4885\n",
            "Epoch 15/15\n",
            "1167/1167 [==============================] - 6s 5ms/step - loss: 0.6967 - accuracy: 0.4969\n"
          ]
        },
        {
          "output_type": "execute_result",
          "data": {
            "text/plain": [
              "<keras.callbacks.History at 0x7fc64a5d3cd0>"
            ]
          },
          "metadata": {},
          "execution_count": 21
        }
      ]
    },
    {
      "cell_type": "code",
      "source": [
        "# Defining a function for finding best hyperparameters\n",
        "def FunctionFindBestParams(X_train, y_train):\n",
        "    \n",
        "    # Defining the list of hyper parameters to try\n",
        "    TrialNumber=0\n",
        "    batch_size_list=[5, 10, 15, 20]\n",
        "    epoch_list=[5, 10, 25 ,50]\n",
        "    \n",
        "    SearchResultsData=pd.DataFrame(columns=['TrialNumber', 'Parameters', 'Accuracy'])\n",
        "    \n",
        "    for batch_size_trial in batch_size_list:\n",
        "        for epochs_trial in epoch_list:\n",
        "            TrialNumber+=1\n",
        "            \n",
        "            # Creating the classifier ANN model\n",
        "            classifier = Sequential()\n",
        "            classifier.add(Dense(units=10, input_dim=10, kernel_initializer='uniform', activation='relu'))\n",
        "            classifier.add(Dense(units=6, kernel_initializer='uniform', activation='relu'))\n",
        "            classifier.add(Dense(units=1, kernel_initializer='uniform', activation='sigmoid'))\n",
        "            classifier.compile(optimizer='adam', loss='binary_crossentropy', metrics=['accuracy'])\n",
        "\n",
        "            \n",
        "            hyper_model=classifier.fit(X_train,y_train, batch_size=batch_size_trial , epochs=epochs_trial, verbose=0)\n",
        "            # Fetching the accuracy of the training\n",
        "            Accuracy = hyper_model.history['accuracy'][-1]\n",
        "            \n",
        "            # printing the results of the current iteration\n",
        "            print(TrialNumber, 'Parameters:','batch_size:', batch_size_trial,'-', 'epochs:',epochs_trial, 'Accuracy:', Accuracy)\n",
        "            \n",
        "            SearchResultsData=SearchResultsData.append(pd.DataFrame(data=[[TrialNumber,\n",
        "                            'batch_size'+str(batch_size_trial)+'-'+'epoch'+str(epochs_trial), Accuracy]],\n",
        "                                                                    columns=['TrialNumber', 'Parameters', 'Accuracy'] ))\n",
        "    return(SearchResultsData)\n",
        "\n",
        "###############################################\n",
        "\n",
        "# Calling the function\n",
        "ResultsData=FunctionFindBestParams(X_train, y_train)"
      ],
      "metadata": {
        "colab": {
          "base_uri": "https://localhost:8080/"
        },
        "id": "VfzPrxObmBOO",
        "outputId": "18bd73d8-45d0-4aaa-ce17-b88ac7dc0198"
      },
      "execution_count": 24,
      "outputs": [
        {
          "output_type": "stream",
          "name": "stdout",
          "text": [
            "1 Parameters: batch_size: 5 - epochs: 5 Accuracy: 0.9045143127441406\n",
            "2 Parameters: batch_size: 5 - epochs: 10 Accuracy: 0.9166285991668701\n",
            "3 Parameters: batch_size: 5 - epochs: 25 Accuracy: 0.922171413898468\n",
            "4 Parameters: batch_size: 5 - epochs: 50 Accuracy: 0.9266856908798218\n",
            "5 Parameters: batch_size: 10 - epochs: 5 Accuracy: 0.9041714072227478\n",
            "6 Parameters: batch_size: 10 - epochs: 10 Accuracy: 0.9181714057922363\n",
            "7 Parameters: batch_size: 10 - epochs: 25 Accuracy: 0.9226285815238953\n",
            "8 Parameters: batch_size: 10 - epochs: 50 Accuracy: 0.9242285490036011\n",
            "9 Parameters: batch_size: 15 - epochs: 5 Accuracy: 0.9132571220397949\n",
            "10 Parameters: batch_size: 15 - epochs: 10 Accuracy: 0.9164571166038513\n",
            "11 Parameters: batch_size: 15 - epochs: 25 Accuracy: 0.9265714287757874\n",
            "12 Parameters: batch_size: 15 - epochs: 50 Accuracy: 0.9298285841941833\n",
            "13 Parameters: batch_size: 20 - epochs: 5 Accuracy: 0.8795999884605408\n",
            "14 Parameters: batch_size: 20 - epochs: 10 Accuracy: 0.9029714465141296\n",
            "15 Parameters: batch_size: 20 - epochs: 25 Accuracy: 0.9258857369422913\n",
            "16 Parameters: batch_size: 20 - epochs: 50 Accuracy: 0.5010856986045837\n"
          ]
        }
      ]
    },
    {
      "cell_type": "code",
      "source": [],
      "metadata": {
        "id": "hbnW5xFuoK5V"
      },
      "execution_count": null,
      "outputs": []
    }
  ]
}